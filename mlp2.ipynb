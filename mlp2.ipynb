{
 "cells": [
  {
   "cell_type": "code",
   "execution_count": 158,
   "metadata": {},
   "outputs": [
    {
     "data": {
      "text/plain": [
       "(torch.Size([169062, 3]),\n",
       " torch.Size([21133, 3]),\n",
       " torch.Size([21133, 3]),\n",
       " torch.Size([169062]),\n",
       " torch.Size([21133]),\n",
       " torch.Size([21133]))"
      ]
     },
     "execution_count": 158,
     "metadata": {},
     "output_type": "execute_result"
    }
   ],
   "source": [
    "import random\n",
    "import torch\n",
    "\n",
    "words = open('names.txt', 'r').read().splitlines()\n",
    "words = list(set(words))\n",
    "random.seed(42)\n",
    "random.shuffle(words)\n",
    "len(words)\n",
    "\n",
    "chs = list(set(''.join(words + ['.'])))\n",
    "chs = sorted(chs, reverse=False)\n",
    "stoi = {ch: i for i, ch in enumerate(chs)}\n",
    "itos = {i: ch for i, ch in enumerate(chs)}\n",
    "\n",
    "# predict next token use previous 3 tokens\n",
    "X, Y = [], []\n",
    "\n",
    "for w in words:\n",
    "    context = '...'\n",
    "    for ch in w + '.':\n",
    "        x = [stoi[c] for c in context]\n",
    "        y = stoi[ch]\n",
    "        X.append(x)\n",
    "        Y.append(y)\n",
    "        context = context[1:] + ch\n",
    "\n",
    "X = torch.tensor(X)\n",
    "Y = torch.tensor(Y)\n",
    "n1, n2  = int(0.8 * len(X)), int(0.9 * len(X))\n",
    "\n",
    "X_train, X_val, X_test = X.tensor_split([n1, n2])\n",
    "Y_train, Y_val, Y_test = Y.tensor_split([n1, n2])\n",
    "\n",
    "X_train.shape, X_val.shape, X_test.shape, Y_train.shape, Y_val.shape, Y_test.shape\n"
   ]
  },
  {
   "cell_type": "markdown",
   "metadata": {},
   "source": [
    "# normalize the initial parameters\n",
    "otherwise the initial loss will be too large"
   ]
  },
  {
   "cell_type": "code",
   "execution_count": 147,
   "metadata": {},
   "outputs": [
    {
     "name": "stdout",
     "output_type": "stream",
     "text": [
      "step: 0, train loss: 24.335227966308594, val loss: 26.72002410888672\n",
      "step: 5000, train loss: 2.751279592514038, val loss: 2.7108864784240723\n",
      "step: 10000, train loss: 2.34926176071167, val loss: 2.532747507095337\n",
      "step: 15000, train loss: 2.5620970726013184, val loss: 2.4622185230255127\n",
      "step: 20000, train loss: 2.406903028488159, val loss: 2.406139373779297\n",
      "step: 25000, train loss: 2.750678539276123, val loss: 2.4181902408599854\n",
      "step: 30000, train loss: 2.4322433471679688, val loss: 2.4484927654266357\n",
      "step: 35000, train loss: 2.6349072456359863, val loss: 2.420732259750366\n",
      "step: 40000, train loss: 1.9264978170394897, val loss: 2.3425233364105225\n",
      "step: 45000, train loss: 1.9710713624954224, val loss: 2.338916778564453\n",
      "step: 50000, train loss: 2.170379638671875, val loss: 2.339043378829956\n",
      "step: 55000, train loss: 2.1003916263580322, val loss: 2.3541834354400635\n",
      "step: 60000, train loss: 3.1957919597625732, val loss: 2.3791303634643555\n",
      "step: 65000, train loss: 2.4687180519104004, val loss: 2.3697609901428223\n",
      "step: 70000, train loss: 2.284069776535034, val loss: 2.334017276763916\n",
      "step: 75000, train loss: 2.6321544647216797, val loss: 2.2971699237823486\n",
      "step: 80000, train loss: 1.7960376739501953, val loss: 2.2930352687835693\n",
      "step: 85000, train loss: 2.218618392944336, val loss: 2.3009588718414307\n",
      "step: 90000, train loss: 2.3473217487335205, val loss: 2.3564727306365967\n",
      "step: 95000, train loss: 2.323827028274536, val loss: 2.2622787952423096\n",
      "step: 100000, train loss: 2.501126766204834, val loss: 2.3087546825408936\n",
      "step: 105000, train loss: 2.0556399822235107, val loss: 2.168558359146118\n",
      "step: 110000, train loss: 1.903432011604309, val loss: 2.1751787662506104\n",
      "step: 115000, train loss: 2.1213340759277344, val loss: 2.1662724018096924\n",
      "step: 120000, train loss: 2.084320545196533, val loss: 2.165789842605591\n",
      "step: 125000, train loss: 2.5746524333953857, val loss: 2.1677780151367188\n",
      "step: 130000, train loss: 2.3753843307495117, val loss: 2.164478063583374\n",
      "step: 135000, train loss: 2.0631203651428223, val loss: 2.169764518737793\n",
      "step: 140000, train loss: 2.310573101043701, val loss: 2.1620399951934814\n",
      "step: 145000, train loss: 2.2068419456481934, val loss: 2.1657140254974365\n",
      "step: 150000, train loss: 2.248950242996216, val loss: 2.1653404235839844\n",
      "step: 155000, train loss: 1.8470402956008911, val loss: 2.166043519973755\n",
      "step: 160000, train loss: 1.8275150060653687, val loss: 2.165815830230713\n",
      "step: 165000, train loss: 2.543524742126465, val loss: 2.1649084091186523\n",
      "step: 170000, train loss: 2.13118052482605, val loss: 2.1633546352386475\n",
      "step: 175000, train loss: 2.0244877338409424, val loss: 2.1660172939300537\n",
      "step: 180000, train loss: 1.686617374420166, val loss: 2.165832996368408\n",
      "step: 185000, train loss: 2.2652363777160645, val loss: 2.1678524017333984\n",
      "step: 190000, train loss: 2.1622302532196045, val loss: 2.1618118286132812\n",
      "step: 195000, train loss: 1.7642427682876587, val loss: 2.163745403289795\n"
     ]
    }
   ],
   "source": [
    "import torch.nn.functional as F\n",
    "\n",
    "n_embd = 10\n",
    "n_hidden = 200\n",
    "\n",
    "torch.manual_seed(42)\n",
    "C = torch.randn(27, n_embd)\n",
    "w1 = torch.randn(n_embd * 3, n_hidden)\n",
    "b1 = torch.randn(n_hidden)\n",
    "w2 = torch.randn(n_hidden, 27)\n",
    "b2 = torch.randn(27)\n",
    "params = [C, w1, b1, w2, b2]\n",
    "for p in params:\n",
    "    p.requires_grad = True\n",
    "\n",
    "bs = 32\n",
    "n_steps = 200000\n",
    "\n",
    "\n",
    "for step in range(n_steps):\n",
    "    idx = torch.randint(0, X_train.shape[0], (bs,))\n",
    "    x = X_train[idx]\n",
    "    y = Y_train[idx]\n",
    "    emb = C[x].view(x.shape[0], -1)\n",
    "    logits = torch.tanh(emb @ w1 + b1) @ w2 + b2\n",
    "    loss = F.cross_entropy(logits, y)\n",
    "    if step % 5000 == 0:\n",
    "        with torch.no_grad():\n",
    "            emb = C[X_val].view(X_val.shape[0], -1)\n",
    "            logits = torch.tanh(emb @ w1 + b1) @ w2 + b2\n",
    "            val_loss = F.cross_entropy(logits, Y_val)\n",
    "            print(f'step: {step}, train loss: {loss.item()}, val loss: {val_loss.item()}')\n",
    "    loss.backward()\n",
    "    lr = 0.1 if step < 100000 else 0.01\n",
    "    for p in params:\n",
    "        p.data -= lr * p.grad\n",
    "        p.grad = None\n",
    "    "
   ]
  },
  {
   "cell_type": "code",
   "execution_count": 148,
   "metadata": {},
   "outputs": [
    {
     "data": {
      "text/plain": [
       "tensor(2.1569)"
      ]
     },
     "execution_count": 148,
     "metadata": {},
     "output_type": "execute_result"
    }
   ],
   "source": [
    "with torch.no_grad():\n",
    "    emb = C[X_test].view(X_test.shape[0], -1)\n",
    "    logits = torch.tanh(emb @ w1 + b1) @ w2 + b2\n",
    "    val_loss = F.cross_entropy(logits, Y_test)\n",
    "\n",
    "val_loss"
   ]
  },
  {
   "cell_type": "code",
   "execution_count": 181,
   "metadata": {},
   "outputs": [
    {
     "name": "stdout",
     "output_type": "stream",
     "text": [
      "step: 0, train loss: 3.5676841735839844, val loss: 3.6688616275787354\n",
      "step: 5000, train loss: 2.713092803955078, val loss: 2.378767967224121\n",
      "step: 10000, train loss: 2.193390369415283, val loss: 2.345865249633789\n",
      "step: 15000, train loss: 2.4472169876098633, val loss: 2.3003673553466797\n",
      "step: 20000, train loss: 2.237395763397217, val loss: 2.2786500453948975\n",
      "step: 25000, train loss: 2.6367156505584717, val loss: 2.311436891555786\n",
      "step: 30000, train loss: 2.2162015438079834, val loss: 2.3151211738586426\n",
      "step: 35000, train loss: 2.4085500240325928, val loss: 2.294883966445923\n",
      "step: 40000, train loss: 1.9417827129364014, val loss: 2.277923583984375\n",
      "step: 45000, train loss: 1.929618000984192, val loss: 2.261650800704956\n",
      "step: 50000, train loss: 2.2906301021575928, val loss: 2.272592067718506\n",
      "step: 55000, train loss: 2.150937795639038, val loss: 2.2745726108551025\n",
      "step: 60000, train loss: 3.0560076236724854, val loss: 2.277144193649292\n",
      "step: 65000, train loss: 2.3158388137817383, val loss: 2.286867618560791\n",
      "step: 70000, train loss: 2.2171976566314697, val loss: 2.2725560665130615\n",
      "step: 75000, train loss: 2.539944648742676, val loss: 2.263740301132202\n",
      "step: 80000, train loss: 2.020328998565674, val loss: 2.26566743850708\n",
      "step: 85000, train loss: 2.1882896423339844, val loss: 2.2511775493621826\n",
      "step: 90000, train loss: 2.253525733947754, val loss: 2.2710556983947754\n",
      "step: 95000, train loss: 2.3312652111053467, val loss: 2.2391579151153564\n",
      "step: 100000, train loss: 2.50593900680542, val loss: 2.261551856994629\n",
      "step: 105000, train loss: 1.996992588043213, val loss: 2.1468825340270996\n",
      "step: 110000, train loss: 1.8553574085235596, val loss: 2.14939022064209\n",
      "step: 115000, train loss: 2.0404741764068604, val loss: 2.14340877532959\n",
      "step: 120000, train loss: 2.0489189624786377, val loss: 2.1445460319519043\n",
      "step: 125000, train loss: 2.514965534210205, val loss: 2.1445796489715576\n",
      "step: 130000, train loss: 2.2483222484588623, val loss: 2.1432502269744873\n",
      "step: 135000, train loss: 2.0900635719299316, val loss: 2.1482150554656982\n",
      "step: 140000, train loss: 2.221506357192993, val loss: 2.140559673309326\n",
      "step: 145000, train loss: 2.2310285568237305, val loss: 2.143728733062744\n",
      "step: 150000, train loss: 2.205491065979004, val loss: 2.1421751976013184\n",
      "step: 155000, train loss: 1.7945399284362793, val loss: 2.144038200378418\n",
      "step: 160000, train loss: 1.909119963645935, val loss: 2.14359974861145\n",
      "step: 165000, train loss: 2.5135421752929688, val loss: 2.1423444747924805\n",
      "step: 170000, train loss: 2.037081718444824, val loss: 2.142040252685547\n",
      "step: 175000, train loss: 1.9466254711151123, val loss: 2.1443822383880615\n",
      "step: 180000, train loss: 1.6496448516845703, val loss: 2.143692970275879\n",
      "step: 185000, train loss: 2.2024426460266113, val loss: 2.145085334777832\n",
      "step: 190000, train loss: 2.0155365467071533, val loss: 2.1401662826538086\n",
      "step: 195000, train loss: 1.7235406637191772, val loss: 2.1453230381011963\n"
     ]
    }
   ],
   "source": [
    "n_embd = 10\n",
    "n_hidden = 200\n",
    "\n",
    "torch.manual_seed(42)\n",
    "C = torch.randn(27, n_embd)\n",
    "w1 = torch.randn(n_embd * 3, n_hidden)\n",
    "b1 = torch.randn(n_hidden)\n",
    "w2 = torch.randn(n_hidden, 27) * (n_hidden) ** -0.5\n",
    "b2 = torch.randn(27) * 0\n",
    "params = [C, w1, b1, w2, b2]\n",
    "for p in params:\n",
    "    p.requires_grad = True\n",
    "\n",
    "bs = 32\n",
    "n_steps = 200000\n",
    "\n",
    "\n",
    "for step in range(n_steps):\n",
    "    idx = torch.randint(0, X_train.shape[0], (bs,))\n",
    "    x = X_train[idx]\n",
    "    y = Y_train[idx]\n",
    "    emb = C[x].view(x.shape[0], -1)\n",
    "    logits = torch.tanh(emb @ w1 + b1) @ w2 + b2\n",
    "    loss = F.cross_entropy(logits, y)\n",
    "    if step % 5000 == 0:\n",
    "        with torch.no_grad():\n",
    "            emb = C[X_val].view(X_val.shape[0], -1)\n",
    "            logits = torch.tanh(emb @ w1 + b1) @ w2 + b2\n",
    "            val_loss = F.cross_entropy(logits, Y_val)\n",
    "            print(f'step: {step}, train loss: {loss.item()}, val loss: {val_loss.item()}')\n",
    "    loss.backward()\n",
    "    lr = 0.1 if step < 100000 else 0.01\n",
    "    for p in params:\n",
    "        p.data -= lr * p.grad\n",
    "        p.grad = None\n",
    "    "
   ]
  },
  {
   "cell_type": "code",
   "execution_count": 182,
   "metadata": {},
   "outputs": [
    {
     "data": {
      "text/plain": [
       "tensor(2.1389)"
      ]
     },
     "execution_count": 182,
     "metadata": {},
     "output_type": "execute_result"
    }
   ],
   "source": [
    "with torch.no_grad():\n",
    "    emb = C[X_test].view(X_test.shape[0], -1)\n",
    "    logits = torch.tanh(emb @ w1 + b1) @ w2 + b2\n",
    "    val_loss = F.cross_entropy(logits, Y_test)\n",
    "\n",
    "val_loss"
   ]
  },
  {
   "cell_type": "code",
   "execution_count": 177,
   "metadata": {},
   "outputs": [
    {
     "name": "stdout",
     "output_type": "stream",
     "text": [
      "step: 0, train loss: 3.3527519702911377, val loss: 3.331983804702759\n",
      "step: 5000, train loss: 2.4834673404693604, val loss: 2.338519811630249\n",
      "step: 10000, train loss: 2.193396806716919, val loss: 2.299612045288086\n",
      "step: 15000, train loss: 2.534618854522705, val loss: 2.2880611419677734\n",
      "step: 20000, train loss: 2.326777696609497, val loss: 2.2548344135284424\n",
      "step: 25000, train loss: 2.4667344093322754, val loss: 2.2487576007843018\n",
      "step: 30000, train loss: 2.0794522762298584, val loss: 2.2234981060028076\n",
      "step: 35000, train loss: 2.4778945446014404, val loss: 2.2246408462524414\n",
      "step: 40000, train loss: 1.93954598903656, val loss: 2.214365005493164\n",
      "step: 45000, train loss: 1.9641342163085938, val loss: 2.20585036277771\n",
      "step: 50000, train loss: 2.105100631713867, val loss: 2.2191359996795654\n",
      "step: 55000, train loss: 2.0250608921051025, val loss: 2.1909067630767822\n",
      "step: 60000, train loss: 2.6980791091918945, val loss: 2.2106235027313232\n",
      "step: 65000, train loss: 2.2755777835845947, val loss: 2.2077457904815674\n",
      "step: 70000, train loss: 2.1210391521453857, val loss: 2.192584991455078\n",
      "step: 75000, train loss: 2.512061595916748, val loss: 2.192430019378662\n",
      "step: 80000, train loss: 1.9199457168579102, val loss: 2.197258472442627\n",
      "step: 85000, train loss: 2.045520305633545, val loss: 2.201967239379883\n",
      "step: 90000, train loss: 2.177250623703003, val loss: 2.209890842437744\n",
      "step: 95000, train loss: 2.2869935035705566, val loss: 2.181706666946411\n",
      "step: 100000, train loss: 2.3221659660339355, val loss: 2.192601203918457\n",
      "step: 105000, train loss: 1.9799611568450928, val loss: 2.126397132873535\n",
      "step: 110000, train loss: 1.7812929153442383, val loss: 2.1265532970428467\n",
      "step: 115000, train loss: 1.9985815286636353, val loss: 2.125180959701538\n",
      "step: 120000, train loss: 2.1523449420928955, val loss: 2.1234028339385986\n",
      "step: 125000, train loss: 2.46940016746521, val loss: 2.124052047729492\n",
      "step: 130000, train loss: 2.1252684593200684, val loss: 2.124113082885742\n",
      "step: 135000, train loss: 2.0325353145599365, val loss: 2.1273083686828613\n",
      "step: 140000, train loss: 2.2726268768310547, val loss: 2.1231415271759033\n",
      "step: 145000, train loss: 2.192380666732788, val loss: 2.124300479888916\n",
      "step: 150000, train loss: 2.206273317337036, val loss: 2.1232502460479736\n",
      "step: 155000, train loss: 1.7992103099822998, val loss: 2.124054431915283\n",
      "step: 160000, train loss: 1.8434451818466187, val loss: 2.1263785362243652\n",
      "step: 165000, train loss: 2.582387685775757, val loss: 2.124525785446167\n",
      "step: 170000, train loss: 1.9470484256744385, val loss: 2.1244168281555176\n",
      "step: 175000, train loss: 2.065155506134033, val loss: 2.12404203414917\n",
      "step: 180000, train loss: 1.6607855558395386, val loss: 2.1250877380371094\n",
      "step: 185000, train loss: 2.2688958644866943, val loss: 2.1246821880340576\n",
      "step: 190000, train loss: 1.89762544631958, val loss: 2.122443199157715\n",
      "step: 195000, train loss: 1.6255829334259033, val loss: 2.123889923095703\n"
     ]
    }
   ],
   "source": [
    "n_embd = 10\n",
    "n_hidden = 200\n",
    "\n",
    "torch.manual_seed(42)\n",
    "C = torch.randn(27, n_embd) * (n_embd) ** -0.5\n",
    "w1 = torch.randn(n_embd * 3, n_hidden) * (n_embd * 3) ** -0.5\n",
    "b1 = torch.randn(n_hidden) * 0\n",
    "w2 = torch.randn(n_hidden, 27) * (n_hidden) ** -0.5\n",
    "b2 = torch.randn(27) * 0\n",
    "params = [C, w1, b1, w2, b2]\n",
    "for p in params:\n",
    "    p.requires_grad = True\n",
    "\n",
    "bs = 32\n",
    "n_steps = 200000\n",
    "\n",
    "\n",
    "for step in range(n_steps):\n",
    "    idx = torch.randint(0, X_train.shape[0], (bs,))\n",
    "    x = X_train[idx]\n",
    "    y = Y_train[idx]\n",
    "    emb = C[x].view(x.shape[0], -1)\n",
    "    logits = torch.tanh(emb @ w1 + b1) @ w2 + b2\n",
    "    loss = F.cross_entropy(logits, y)\n",
    "    if step % 5000 == 0:\n",
    "        with torch.no_grad():\n",
    "            emb = C[X_val].view(X_val.shape[0], -1)\n",
    "            logits = torch.tanh(emb @ w1 + b1) @ w2 + b2\n",
    "            val_loss = F.cross_entropy(logits, Y_val)\n",
    "            print(f'step: {step}, train loss: {loss.item()}, val loss: {val_loss.item()}')\n",
    "    loss.backward()\n",
    "    lr = 0.1 if step < 100000 else 0.01\n",
    "    for p in params:\n",
    "        p.data -= lr * p.grad\n",
    "        p.grad = None\n",
    "    "
   ]
  },
  {
   "cell_type": "code",
   "execution_count": 179,
   "metadata": {},
   "outputs": [
    {
     "data": {
      "text/plain": [
       "tensor(2.1157)"
      ]
     },
     "execution_count": 179,
     "metadata": {},
     "output_type": "execute_result"
    }
   ],
   "source": [
    "with torch.no_grad():\n",
    "    emb = C[X_test].view(X_test.shape[0], -1)\n",
    "    logits = torch.tanh(emb @ w1 + b1) @ w2 + b2\n",
    "    val_loss = F.cross_entropy(logits, Y_test)\n",
    "\n",
    "val_loss"
   ]
  },
  {
   "cell_type": "code",
   "execution_count": 186,
   "metadata": {},
   "outputs": [
    {
     "name": "stdout",
     "output_type": "stream",
     "text": [
      "step: 0, train loss: 3.4812259674072266, val loss: 3.469865322113037\n",
      "step: 5000, train loss: 2.461909770965576, val loss: 2.3213608264923096\n",
      "step: 10000, train loss: 2.1406919956207275, val loss: 2.2763028144836426\n",
      "step: 15000, train loss: 2.411884307861328, val loss: 2.2622809410095215\n",
      "step: 20000, train loss: 2.2142958641052246, val loss: 2.233551502227783\n",
      "step: 25000, train loss: 2.4785103797912598, val loss: 2.23862624168396\n",
      "step: 30000, train loss: 2.0231127738952637, val loss: 2.2096288204193115\n",
      "step: 35000, train loss: 2.427821397781372, val loss: 2.2209129333496094\n",
      "step: 40000, train loss: 2.009671926498413, val loss: 2.2097156047821045\n",
      "step: 45000, train loss: 1.861956000328064, val loss: 2.2065975666046143\n",
      "step: 50000, train loss: 2.239614248275757, val loss: 2.21494197845459\n",
      "step: 55000, train loss: 2.0423049926757812, val loss: 2.193603277206421\n",
      "step: 60000, train loss: 2.7932095527648926, val loss: 2.207075595855713\n",
      "step: 65000, train loss: 2.277264356613159, val loss: 2.2093515396118164\n",
      "step: 70000, train loss: 2.1793160438537598, val loss: 2.194586753845215\n",
      "step: 75000, train loss: 2.4824378490448, val loss: 2.203742742538452\n",
      "step: 80000, train loss: 1.958899974822998, val loss: 2.1993236541748047\n",
      "step: 85000, train loss: 2.052828788757324, val loss: 2.2128708362579346\n",
      "step: 90000, train loss: 2.219761848449707, val loss: 2.2210607528686523\n",
      "step: 95000, train loss: 2.2778518199920654, val loss: 2.1918864250183105\n",
      "step: 100000, train loss: 2.2997260093688965, val loss: 2.201726198196411\n",
      "step: 105000, train loss: 2.0172932147979736, val loss: 2.1186420917510986\n",
      "step: 110000, train loss: 1.681532859802246, val loss: 2.1188764572143555\n",
      "step: 115000, train loss: 1.9655860662460327, val loss: 2.116770029067993\n",
      "step: 120000, train loss: 2.140951633453369, val loss: 2.1159164905548096\n",
      "step: 125000, train loss: 2.4337940216064453, val loss: 2.115509033203125\n",
      "step: 130000, train loss: 2.240994930267334, val loss: 2.1147375106811523\n",
      "step: 135000, train loss: 2.0050904750823975, val loss: 2.1180598735809326\n",
      "step: 140000, train loss: 2.2184488773345947, val loss: 2.114131450653076\n",
      "step: 145000, train loss: 2.188690662384033, val loss: 2.1159536838531494\n",
      "step: 150000, train loss: 2.177994728088379, val loss: 2.1147377490997314\n",
      "step: 155000, train loss: 1.7896877527236938, val loss: 2.116128921508789\n",
      "step: 160000, train loss: 1.8855608701705933, val loss: 2.1167376041412354\n",
      "step: 165000, train loss: 2.4690704345703125, val loss: 2.1167802810668945\n",
      "step: 170000, train loss: 1.9452097415924072, val loss: 2.1154377460479736\n",
      "step: 175000, train loss: 1.941624641418457, val loss: 2.1177608966827393\n",
      "step: 180000, train loss: 1.6335870027542114, val loss: 2.1181867122650146\n",
      "step: 185000, train loss: 2.2621729373931885, val loss: 2.11737060546875\n",
      "step: 190000, train loss: 1.9662394523620605, val loss: 2.1154515743255615\n",
      "step: 195000, train loss: 1.6736342906951904, val loss: 2.1182713508605957\n"
     ]
    }
   ],
   "source": [
    "n_embd = 10\n",
    "n_hidden = 200\n",
    "\n",
    "torch.manual_seed(42)\n",
    "C = torch.randn(27, n_embd)\n",
    "w1 = torch.randn(n_embd * 3, n_hidden) * (n_embd * 3) ** -0.5\n",
    "b1 = torch.randn(n_hidden) * 0\n",
    "w2 = torch.randn(n_hidden, 27) * (n_hidden) ** -0.5\n",
    "b2 = torch.randn(27) * 0\n",
    "params = [C, w1, b1, w2, b2]\n",
    "for p in params:\n",
    "    p.requires_grad = True\n",
    "\n",
    "bs = 32\n",
    "n_steps = 200000\n",
    "\n",
    "\n",
    "for step in range(n_steps):\n",
    "    idx = torch.randint(0, X_train.shape[0], (bs,))\n",
    "    x = X_train[idx]\n",
    "    y = Y_train[idx]\n",
    "    emb = C[x].view(x.shape[0], -1)\n",
    "    logits = torch.tanh(emb @ w1 + b1) @ w2 + b2\n",
    "    loss = F.cross_entropy(logits, y)\n",
    "    if step % 5000 == 0:\n",
    "        with torch.no_grad():\n",
    "            emb = C[X_val].view(X_val.shape[0], -1)\n",
    "            logits = torch.tanh(emb @ w1 + b1) @ w2 + b2\n",
    "            val_loss = F.cross_entropy(logits, Y_val)\n",
    "            print(f'step: {step}, train loss: {loss.item()}, val loss: {val_loss.item()}')\n",
    "    loss.backward()\n",
    "    lr = 0.1 if step < 100000 else 0.01\n",
    "    for p in params:\n",
    "        p.data -= lr * p.grad\n",
    "        p.grad = None\n",
    "    "
   ]
  },
  {
   "cell_type": "code",
   "execution_count": 188,
   "metadata": {},
   "outputs": [
    {
     "data": {
      "text/plain": [
       "tensor(2.1135)"
      ]
     },
     "execution_count": 188,
     "metadata": {},
     "output_type": "execute_result"
    }
   ],
   "source": [
    "with torch.no_grad():\n",
    "    emb = C[X_test].view(X_test.shape[0], -1)\n",
    "    logits = torch.tanh(emb @ w1 + b1) @ w2 + b2\n",
    "    val_loss = F.cross_entropy(logits, Y_test)\n",
    "\n",
    "val_loss"
   ]
  },
  {
   "cell_type": "code",
   "execution_count": 184,
   "metadata": {},
   "outputs": [
    {
     "name": "stdout",
     "output_type": "stream",
     "text": [
      "step: 0, train loss: 3.4791550636291504, val loss: 3.4704365730285645\n",
      "step: 5000, train loss: 2.459507703781128, val loss: 2.321448564529419\n",
      "step: 10000, train loss: 2.1370749473571777, val loss: 2.2764251232147217\n",
      "step: 15000, train loss: 2.4144270420074463, val loss: 2.262295722961426\n",
      "step: 20000, train loss: 2.2196202278137207, val loss: 2.233733654022217\n",
      "step: 25000, train loss: 2.481536626815796, val loss: 2.2394421100616455\n",
      "step: 30000, train loss: 2.025994062423706, val loss: 2.21049165725708\n",
      "step: 35000, train loss: 2.4246938228607178, val loss: 2.2206366062164307\n",
      "step: 40000, train loss: 1.9948053359985352, val loss: 2.2094690799713135\n",
      "step: 45000, train loss: 1.854151964187622, val loss: 2.2062954902648926\n",
      "step: 50000, train loss: 2.2395777702331543, val loss: 2.213477849960327\n",
      "step: 55000, train loss: 2.039323568344116, val loss: 2.192232370376587\n",
      "step: 60000, train loss: 2.7700750827789307, val loss: 2.2055141925811768\n",
      "step: 65000, train loss: 2.2912356853485107, val loss: 2.2102742195129395\n",
      "step: 70000, train loss: 2.174105167388916, val loss: 2.191925287246704\n",
      "step: 75000, train loss: 2.4976232051849365, val loss: 2.203270435333252\n",
      "step: 80000, train loss: 1.9451314210891724, val loss: 2.199591875076294\n",
      "step: 85000, train loss: 2.1075680255889893, val loss: 2.210861921310425\n",
      "step: 90000, train loss: 2.1881792545318604, val loss: 2.219723701477051\n",
      "step: 95000, train loss: 2.3112170696258545, val loss: 2.1907331943511963\n",
      "step: 100000, train loss: 2.29628849029541, val loss: 2.202188491821289\n",
      "step: 105000, train loss: 2.0455667972564697, val loss: 2.118575096130371\n",
      "step: 110000, train loss: 1.7062811851501465, val loss: 2.118326425552368\n",
      "step: 115000, train loss: 1.9761353731155396, val loss: 2.11610746383667\n",
      "step: 120000, train loss: 2.167065143585205, val loss: 2.1152377128601074\n",
      "step: 125000, train loss: 2.454481840133667, val loss: 2.1147408485412598\n",
      "step: 130000, train loss: 2.176417827606201, val loss: 2.1145870685577393\n",
      "step: 135000, train loss: 2.0550849437713623, val loss: 2.117642879486084\n",
      "step: 140000, train loss: 2.2235496044158936, val loss: 2.1132583618164062\n",
      "step: 145000, train loss: 2.190114736557007, val loss: 2.115097761154175\n",
      "step: 150000, train loss: 2.153898239135742, val loss: 2.1140105724334717\n",
      "step: 155000, train loss: 1.813721776008606, val loss: 2.1155736446380615\n",
      "step: 160000, train loss: 1.8720166683197021, val loss: 2.116079092025757\n",
      "step: 165000, train loss: 2.4603211879730225, val loss: 2.1161186695098877\n",
      "step: 170000, train loss: 1.9494950771331787, val loss: 2.115018129348755\n",
      "step: 175000, train loss: 1.9124009609222412, val loss: 2.1173202991485596\n",
      "step: 180000, train loss: 1.6299089193344116, val loss: 2.1174724102020264\n",
      "step: 185000, train loss: 2.2752819061279297, val loss: 2.116546154022217\n",
      "step: 190000, train loss: 1.9911736249923706, val loss: 2.1145219802856445\n",
      "step: 195000, train loss: 1.651382565498352, val loss: 2.1174259185791016\n"
     ]
    }
   ],
   "source": [
    "n_embd = 10\n",
    "n_hidden = 200\n",
    "\n",
    "torch.manual_seed(42)\n",
    "C = torch.randn(27, n_embd)\n",
    "w1 = torch.randn(n_embd * 3, n_hidden) * (n_embd * 3) ** -0.5\n",
    "b1 = torch.randn(n_hidden) * 0.01 # add some entropy before tanh\n",
    "w2 = torch.randn(n_hidden, 27) * (n_hidden) ** -0.5\n",
    "b2 = torch.randn(27) * 0\n",
    "params = [C, w1, b1, w2, b2]\n",
    "for p in params:\n",
    "    p.requires_grad = True\n",
    "\n",
    "bs = 32\n",
    "n_steps = 200000\n",
    "\n",
    "\n",
    "for step in range(n_steps):\n",
    "    idx = torch.randint(0, X_train.shape[0], (bs,))\n",
    "    x = X_train[idx]\n",
    "    y = Y_train[idx]\n",
    "    emb = C[x].view(x.shape[0], -1)\n",
    "    logits = torch.tanh(emb @ w1 + b1) @ w2 + b2\n",
    "    loss = F.cross_entropy(logits, y)\n",
    "    if step % 5000 == 0:\n",
    "        with torch.no_grad():\n",
    "            emb = C[X_val].view(X_val.shape[0], -1)\n",
    "            logits = torch.tanh(emb @ w1 + b1) @ w2 + b2\n",
    "            val_loss = F.cross_entropy(logits, Y_val)\n",
    "            print(f'step: {step}, train loss: {loss.item()}, val loss: {val_loss.item()}')\n",
    "    loss.backward()\n",
    "    lr = 0.1 if step < 100000 else 0.01\n",
    "    for p in params:\n",
    "        p.data -= lr * p.grad\n",
    "        p.grad = None\n",
    "    "
   ]
  },
  {
   "cell_type": "code",
   "execution_count": 185,
   "metadata": {},
   "outputs": [
    {
     "data": {
      "text/plain": [
       "tensor(2.1135)"
      ]
     },
     "execution_count": 185,
     "metadata": {},
     "output_type": "execute_result"
    }
   ],
   "source": [
    "with torch.no_grad():\n",
    "    emb = C[X_test].view(X_test.shape[0], -1)\n",
    "    logits = torch.tanh(emb @ w1 + b1) @ w2 + b2\n",
    "    val_loss = F.cross_entropy(logits, Y_test)\n",
    "\n",
    "val_loss"
   ]
  },
  {
   "cell_type": "code",
   "execution_count": 174,
   "metadata": {},
   "outputs": [
    {
     "data": {
      "text/plain": [
       "tensor(24.3352, grad_fn=<NllLossBackward0>)"
      ]
     },
     "execution_count": 174,
     "metadata": {},
     "output_type": "execute_result"
    },
    {
     "data": {
      "image/png": "[encoded data removed]",
      "text/plain": [
       "<Figure size 640x480 with 1 Axes>"
      ]
     },
     "metadata": {},
     "output_type": "display_data"
    }
   ],
   "source": [
    "n_embd = 10\n",
    "n_hidden = 200\n",
    "\n",
    "torch.manual_seed(42)\n",
    "C = torch.randn(27, n_embd)\n",
    "w1 = torch.randn(n_embd * 3, n_hidden)\n",
    "b1 = torch.randn(n_hidden)\n",
    "w2 = torch.randn(n_hidden, 27)\n",
    "b2 = torch.randn(27)\n",
    "params = [C, w1, b1, w2, b2]\n",
    "for p in params:\n",
    "    p.requires_grad = True\n",
    "\n",
    "bs = 32\n",
    "n_steps = 200000\n",
    "\n",
    "\n",
    "\n",
    "idx = torch.randint(0, X_train.shape[0], (bs,))\n",
    "x = X_train[idx]\n",
    "y = Y_train[idx]\n",
    "emb = C[x].view(x.shape[0], -1)\n",
    "hpreact = emb @ w1 + b1\n",
    "h = hpreact.tanh()\n",
    "logits = h @ w2 + b2\n",
    "loss = F.cross_entropy(logits, y)\n",
    "\n",
    "plt.hist(h.view(-1).tolist(), 100)\n",
    "\n",
    "loss"
   ]
  },
  {
   "cell_type": "code",
   "execution_count": 175,
   "metadata": {},
   "outputs": [
    {
     "data": {
      "text/plain": [
       "<matplotlib.image.AxesImage at 0x3186b9f10>"
      ]
     },
     "execution_count": 175,
     "metadata": {},
     "output_type": "execute_result"
    },
    {
     "data": {
      "image/png": "[encoded data removed]",
      "text/plain": [
       "<Figure size 640x480 with 1 Axes>"
      ]
     },
     "metadata": {},
     "output_type": "display_data"
    }
   ],
   "source": [
    "plt.imshow(h > 0.99, cmap='gray')"
   ]
  },
  {
   "cell_type": "code",
   "execution_count": 245,
   "metadata": {},
   "outputs": [
    {
     "data": {
      "text/plain": [
       "tensor(3.4792, grad_fn=<NllLossBackward0>)"
      ]
     },
     "execution_count": 245,
     "metadata": {},
     "output_type": "execute_result"
    },
    {
     "data": {
      "image/png": "[encoded data removed]",
      "text/plain": [
       "<Figure size 640x480 with 1 Axes>"
      ]
     },
     "metadata": {},
     "output_type": "display_data"
    }
   ],
   "source": [
    "n_embd = 10\n",
    "n_hidden = 200\n",
    "\n",
    "torch.manual_seed(42)\n",
    "C = torch.randn(27, n_embd)\n",
    "w1 = torch.randn(n_embd * 3, n_hidden) * (n_embd * 3) ** -0.5\n",
    "b1 = torch.randn(n_hidden) * 0.01 # add some entropy before tanh\n",
    "w2 = torch.randn(n_hidden, 27) * (n_hidden) ** -0.5\n",
    "b2 = torch.randn(27) * 0\n",
    "params = [C, w1, b1, w2, b2]\n",
    "for p in params:\n",
    "    p.requires_grad = True\n",
    "\n",
    "bs = 32\n",
    "n_steps = 200000\n",
    "\n",
    "\n",
    "\n",
    "idx = torch.randint(0, X_train.shape[0], (bs,))\n",
    "x = X_train[idx]\n",
    "y = Y_train[idx]\n",
    "emb = C[x].view(x.shape[0], -1)\n",
    "hpreact = emb @ w1 + b1\n",
    "h = hpreact.tanh()\n",
    "logits = h @ w2 + b2\n",
    "loss = F.cross_entropy(logits, y)\n",
    "\n",
    "plt.hist(h.view(-1).tolist(), 100)\n",
    "\n",
    "loss"
   ]
  },
  {
   "cell_type": "code",
   "execution_count": 246,
   "metadata": {},
   "outputs": [
    {
     "data": {
      "text/plain": [
       "<matplotlib.image.AxesImage at 0x317e7e290>"
      ]
     },
     "execution_count": 246,
     "metadata": {},
     "output_type": "execute_result"
    },
    {
     "data": {
      "image/png": "[encoded data removed]",
      "text/plain": [
       "<Figure size 640x480 with 1 Axes>"
      ]
     },
     "metadata": {},
     "output_type": "display_data"
    }
   ],
   "source": [
    "plt.imshow(h > 0.99, cmap='gray')"
   ]
  },
  {
   "cell_type": "code",
   "execution_count": 203,
   "metadata": {},
   "outputs": [
    {
     "data": {
      "text/plain": [
       "(tensor(1.0059), tensor(3.2957))"
      ]
     },
     "execution_count": 203,
     "metadata": {},
     "output_type": "execute_result"
    }
   ],
   "source": [
    "torch.manual_seed(42)\n",
    "\n",
    "x = torch.randn(10000, 10)\n",
    "w = torch.randn(10)\n",
    "\n",
    "y = x @ w\n",
    "\n",
    "x.std(), y.std()\n"
   ]
  },
  {
   "cell_type": "code",
   "execution_count": 204,
   "metadata": {},
   "outputs": [
    {
     "data": {
      "text/plain": [
       "(tensor(1.0059), tensor(1.0422))"
      ]
     },
     "execution_count": 204,
     "metadata": {},
     "output_type": "execute_result"
    }
   ],
   "source": [
    "torch.manual_seed(42)\n",
    "\n",
    "x = torch.randn(10000, 10)\n",
    "w = torch.randn(10) * 10 ** -0.5\n",
    "\n",
    "y = x @ w\n",
    "\n",
    "x.std(), y.std()\n"
   ]
  },
  {
   "cell_type": "markdown",
   "metadata": {},
   "source": [
    "# kaiming init"
   ]
  },
  {
   "cell_type": "code",
   "execution_count": 218,
   "metadata": {},
   "outputs": [
    {
     "data": {
      "text/plain": [
       "(tensor(0.9977), tensor(0.6275), tensor(1.0458))"
      ]
     },
     "execution_count": 218,
     "metadata": {},
     "output_type": "execute_result"
    }
   ],
   "source": [
    "torch.manual_seed(45)\n",
    "\n",
    "x = torch.randn(100000)\n",
    "y = x.tanh()\n",
    "z = y * (5/3)\n",
    "x.std(), y.std(), z.std()\n"
   ]
  },
  {
   "cell_type": "code",
   "execution_count": 238,
   "metadata": {},
   "outputs": [
    {
     "data": {
      "text/plain": [
       "(tensor(0.9996), tensor(0.7318))"
      ]
     },
     "execution_count": 238,
     "metadata": {},
     "output_type": "execute_result"
    }
   ],
   "source": [
    "torch.manual_seed(451)\n",
    "\n",
    "x = torch.randn(10000, 100)\n",
    "w = torch.randn(100) * 100 ** -0.5 * (5/3)\n",
    "\n",
    "y = (x @ w).tanh()\n",
    "\n",
    "x.std(), y.std()\n"
   ]
  },
  {
   "cell_type": "code",
   "execution_count": 232,
   "metadata": {},
   "outputs": [
    {
     "data": {
      "text/plain": [
       "torch.Size([10000])"
      ]
     },
     "execution_count": 232,
     "metadata": {},
     "output_type": "execute_result"
    }
   ],
   "source": [
    "torch.manual_seed(42)\n",
    "C = torch.randn(27, n_embd) * (n_embd) ** -0.5\n",
    "w1 = torch.randn(n_embd * 3, n_hidden) * (n_embd * 3) ** -0.5"
   ]
  },
  {
   "cell_type": "code",
   "execution_count": 247,
   "metadata": {},
   "outputs": [
    {
     "name": "stdout",
     "output_type": "stream",
     "text": [
      "step: 0, train loss: 3.7981131076812744, val loss: 3.810770273208618\n",
      "step: 5000, train loss: 2.4495651721954346, val loss: 2.322173595428467\n",
      "step: 10000, train loss: 2.1329362392425537, val loss: 2.2771947383880615\n",
      "step: 15000, train loss: 2.4378445148468018, val loss: 2.2617921829223633\n",
      "step: 20000, train loss: 2.248011589050293, val loss: 2.2326605319976807\n",
      "step: 25000, train loss: 2.4755475521087646, val loss: 2.2413690090179443\n",
      "step: 30000, train loss: 2.097339630126953, val loss: 2.2135913372039795\n",
      "step: 35000, train loss: 2.492683172225952, val loss: 2.2257628440856934\n",
      "step: 40000, train loss: 1.9426915645599365, val loss: 2.2160024642944336\n",
      "step: 45000, train loss: 1.836641788482666, val loss: 2.2106287479400635\n",
      "step: 50000, train loss: 2.189366340637207, val loss: 2.215163469314575\n",
      "step: 55000, train loss: 1.9834315776824951, val loss: 2.19856595993042\n",
      "step: 60000, train loss: 2.7214760780334473, val loss: 2.2123913764953613\n",
      "step: 65000, train loss: 2.2884953022003174, val loss: 2.2114763259887695\n",
      "step: 70000, train loss: 2.1627252101898193, val loss: 2.1994025707244873\n",
      "step: 75000, train loss: 2.346094846725464, val loss: 2.206669807434082\n",
      "step: 80000, train loss: 1.908322811126709, val loss: 2.203679323196411\n",
      "step: 85000, train loss: 2.170121669769287, val loss: 2.2127461433410645\n",
      "step: 90000, train loss: 2.2334396839141846, val loss: 2.218721866607666\n",
      "step: 95000, train loss: 2.2058098316192627, val loss: 2.1922991275787354\n",
      "step: 100000, train loss: 2.2997639179229736, val loss: 2.2059857845306396\n",
      "step: 105000, train loss: 1.9601801633834839, val loss: 2.1208295822143555\n",
      "step: 110000, train loss: 1.8442775011062622, val loss: 2.121483325958252\n",
      "step: 115000, train loss: 2.0829694271087646, val loss: 2.118875503540039\n",
      "step: 120000, train loss: 2.141895055770874, val loss: 2.1179678440093994\n",
      "step: 125000, train loss: 2.408027172088623, val loss: 2.118342638015747\n",
      "step: 130000, train loss: 2.162755012512207, val loss: 2.1178386211395264\n",
      "step: 135000, train loss: 2.0351555347442627, val loss: 2.120861291885376\n",
      "step: 140000, train loss: 2.200688123703003, val loss: 2.1156668663024902\n",
      "step: 145000, train loss: 2.082374334335327, val loss: 2.117619752883911\n",
      "step: 150000, train loss: 2.081763505935669, val loss: 2.1168034076690674\n",
      "step: 155000, train loss: 1.6961073875427246, val loss: 2.1192374229431152\n",
      "step: 160000, train loss: 1.861867070198059, val loss: 2.1196088790893555\n",
      "step: 165000, train loss: 2.421849250793457, val loss: 2.1172757148742676\n",
      "step: 170000, train loss: 1.981285810470581, val loss: 2.116739511489868\n",
      "step: 175000, train loss: 1.9251967668533325, val loss: 2.1191020011901855\n",
      "step: 180000, train loss: 1.6241427659988403, val loss: 2.119337558746338\n",
      "step: 185000, train loss: 2.199418306350708, val loss: 2.1183385848999023\n",
      "step: 190000, train loss: 2.0372111797332764, val loss: 2.116262912750244\n",
      "step: 195000, train loss: 1.5597282648086548, val loss: 2.118859052658081\n"
     ]
    }
   ],
   "source": [
    "n_embd = 10\n",
    "n_hidden = 200\n",
    "\n",
    "torch.manual_seed(42)\n",
    "C = torch.randn(27, n_embd)\n",
    "w1 = torch.randn(n_embd * 3, n_hidden) * (n_embd * 3) ** -0.5\n",
    "b1 = torch.randn(n_hidden) * 0.01 # add some entropy before tanh\n",
    "w2 = torch.randn(n_hidden, 27) * (n_hidden) ** -0.5 * (5/3)\n",
    "b2 = torch.randn(27) * 0\n",
    "params = [C, w1, b1, w2, b2]\n",
    "for p in params:\n",
    "    p.requires_grad = True\n",
    "\n",
    "bs = 32\n",
    "n_steps = 200000\n",
    "\n",
    "\n",
    "for step in range(n_steps):\n",
    "    idx = torch.randint(0, X_train.shape[0], (bs,))\n",
    "    x = X_train[idx]\n",
    "    y = Y_train[idx]\n",
    "    emb = C[x].view(x.shape[0], -1)\n",
    "    logits = torch.tanh(emb @ w1 + b1) @ w2 + b2\n",
    "    loss = F.cross_entropy(logits, y)\n",
    "    if step % 5000 == 0:\n",
    "        with torch.no_grad():\n",
    "            emb = C[X_val].view(X_val.shape[0], -1)\n",
    "            logits = torch.tanh(emb @ w1 + b1) @ w2 + b2\n",
    "            val_loss = F.cross_entropy(logits, Y_val)\n",
    "            print(f'step: {step}, train loss: {loss.item()}, val loss: {val_loss.item()}')\n",
    "    loss.backward()\n",
    "    lr = 0.1 if step < 100000 else 0.01\n",
    "    for p in params:\n",
    "        p.data -= lr * p.grad\n",
    "        p.grad = None\n",
    "    "
   ]
  },
  {
   "cell_type": "code",
   "execution_count": 248,
   "metadata": {},
   "outputs": [
    {
     "data": {
      "text/plain": [
       "tensor(2.1105)"
      ]
     },
     "execution_count": 248,
     "metadata": {},
     "output_type": "execute_result"
    }
   ],
   "source": [
    "with torch.no_grad():\n",
    "    emb = C[X_test].view(X_test.shape[0], -1)\n",
    "    logits = torch.tanh(emb @ w1 + b1) @ w2 + b2\n",
    "    val_loss = F.cross_entropy(logits, Y_test)\n",
    "\n",
    "val_loss"
   ]
  },
  {
   "cell_type": "markdown",
   "metadata": {},
   "source": [
    "# zero init\n",
    "sometimes it damage the exploration of weight space during optimization"
   ]
  },
  {
   "cell_type": "code",
   "execution_count": 251,
   "metadata": {},
   "outputs": [
    {
     "name": "stdout",
     "output_type": "stream",
     "text": [
      "step: 0, train loss: 3.295837163925171, val loss: 3.295836925506592\n",
      "step: 5000, train loss: 2.837958812713623, val loss: 2.8179070949554443\n",
      "step: 10000, train loss: 2.954922914505005, val loss: 2.819114923477173\n",
      "step: 15000, train loss: 3.103015184402466, val loss: 2.8183705806732178\n",
      "step: 20000, train loss: 2.845045566558838, val loss: 2.8185794353485107\n",
      "step: 25000, train loss: 2.860874652862549, val loss: 2.8180415630340576\n",
      "step: 30000, train loss: 2.872079849243164, val loss: 2.8178398609161377\n",
      "step: 35000, train loss: 2.6541695594787598, val loss: 2.818268060684204\n",
      "step: 40000, train loss: 2.803844451904297, val loss: 2.8181488513946533\n",
      "step: 45000, train loss: 2.8868420124053955, val loss: 2.818114995956421\n",
      "step: 50000, train loss: 2.696639060974121, val loss: 2.81795072555542\n",
      "step: 55000, train loss: 2.774677038192749, val loss: 2.8182125091552734\n",
      "step: 60000, train loss: 3.103708028793335, val loss: 2.817776679992676\n",
      "step: 65000, train loss: 2.6902365684509277, val loss: 2.818009853363037\n",
      "step: 70000, train loss: 2.4388086795806885, val loss: 2.8178741931915283\n",
      "step: 75000, train loss: 2.888962984085083, val loss: 2.817866325378418\n",
      "step: 80000, train loss: 2.4601919651031494, val loss: 2.8177542686462402\n",
      "step: 85000, train loss: 2.8473594188690186, val loss: 2.818298578262329\n",
      "step: 90000, train loss: 2.8209238052368164, val loss: 2.818006753921509\n",
      "step: 95000, train loss: 2.8901162147521973, val loss: 2.8178443908691406\n",
      "step: 100000, train loss: 2.8192198276519775, val loss: 2.8179051876068115\n",
      "step: 105000, train loss: 2.8962323665618896, val loss: 2.8175268173217773\n",
      "step: 110000, train loss: 2.753453493118286, val loss: 2.8174355030059814\n",
      "step: 115000, train loss: 2.8986027240753174, val loss: 2.817483425140381\n",
      "step: 120000, train loss: 2.7684695720672607, val loss: 2.817594528198242\n",
      "step: 125000, train loss: 3.156924247741699, val loss: 2.8175830841064453\n",
      "step: 130000, train loss: 2.890326499938965, val loss: 2.8174805641174316\n",
      "step: 135000, train loss: 2.848766803741455, val loss: 2.8174631595611572\n",
      "step: 140000, train loss: 3.0257833003997803, val loss: 2.8174028396606445\n",
      "step: 145000, train loss: 2.8956942558288574, val loss: 2.817551374435425\n",
      "step: 150000, train loss: 2.720839262008667, val loss: 2.8175482749938965\n",
      "step: 155000, train loss: 2.717531204223633, val loss: 2.8174848556518555\n",
      "step: 160000, train loss: 2.74503231048584, val loss: 2.8174569606781006\n",
      "step: 165000, train loss: 3.044367551803589, val loss: 2.8175530433654785\n",
      "step: 170000, train loss: 2.8722500801086426, val loss: 2.8174619674682617\n",
      "step: 175000, train loss: 2.763662338256836, val loss: 2.817425012588501\n",
      "step: 180000, train loss: 2.7200264930725098, val loss: 2.8175127506256104\n",
      "step: 185000, train loss: 3.0932862758636475, val loss: 2.81752610206604\n",
      "step: 190000, train loss: 2.704421043395996, val loss: 2.8175792694091797\n",
      "step: 195000, train loss: 2.721203565597534, val loss: 2.817457914352417\n"
     ]
    }
   ],
   "source": [
    "n_embd = 10\n",
    "n_hidden = 200\n",
    "\n",
    "torch.manual_seed(42)\n",
    "C = torch.randn(27, n_embd) * 0\n",
    "w1 = torch.randn(n_embd * 3, n_hidden) * 0\n",
    "b1 = torch.randn(n_hidden) * 0\n",
    "w2 = torch.randn(n_hidden, 27) * 0\n",
    "b2 = torch.randn(27) * 0\n",
    "params = [C, w1, b1, w2, b2]\n",
    "for p in params:\n",
    "    p.requires_grad = True\n",
    "\n",
    "bs = 32\n",
    "n_steps = 200000\n",
    "\n",
    "\n",
    "for step in range(n_steps):\n",
    "    idx = torch.randint(0, X_train.shape[0], (bs,))\n",
    "    x = X_train[idx]\n",
    "    y = Y_train[idx]\n",
    "    emb = C[x].view(x.shape[0], -1)\n",
    "    logits = torch.tanh(emb @ w1 + b1) @ w2 + b2\n",
    "    loss = F.cross_entropy(logits, y)\n",
    "    if step % 5000 == 0:\n",
    "        with torch.no_grad():\n",
    "            emb = C[X_val].view(X_val.shape[0], -1)\n",
    "            logits = torch.tanh(emb @ w1 + b1) @ w2 + b2\n",
    "            val_loss = F.cross_entropy(logits, Y_val)\n",
    "            print(f'step: {step}, train loss: {loss.item()}, val loss: {val_loss.item()}')\n",
    "    loss.backward()\n",
    "    lr = 0.1 if step < 100000 else 0.01\n",
    "    for p in params:\n",
    "        p.data -= lr * p.grad\n",
    "        p.grad = None\n",
    "    "
   ]
  },
  {
   "cell_type": "markdown",
   "metadata": {},
   "source": [
    "the loss can't be reduced!"
   ]
  },
  {
   "cell_type": "code",
   "execution_count": 252,
   "metadata": {},
   "outputs": [
    {
     "data": {
      "text/plain": [
       "tensor(2.8157)"
      ]
     },
     "execution_count": 252,
     "metadata": {},
     "output_type": "execute_result"
    }
   ],
   "source": [
    "with torch.no_grad():\n",
    "    emb = C[X_test].view(X_test.shape[0], -1)\n",
    "    logits = torch.tanh(emb @ w1 + b1) @ w2 + b2\n",
    "    val_loss = F.cross_entropy(logits, Y_test)\n",
    "\n",
    "val_loss"
   ]
  },
  {
   "cell_type": "markdown",
   "metadata": {},
   "source": [
    "### zero init cause highly correlated weight"
   ]
  },
  {
   "cell_type": "code",
   "execution_count": 344,
   "metadata": {},
   "outputs": [
    {
     "name": "stdout",
     "output_type": "stream",
     "text": [
      "tensor([[1.0000, 1.0000, 1.0000, 1.0000, 1.0000, 1.0000, 1.0000, 1.0000, 1.0000,\n",
      "         1.0000],\n",
      "        [1.2899, 1.2899, 1.2899, 1.2899, 1.2899, 1.2899, 1.2899, 1.2899, 1.2899,\n",
      "         1.2899],\n",
      "        [1.3739, 1.3739, 1.3739, 1.3739, 1.3739, 1.3739, 1.3739, 1.3739, 1.3739,\n",
      "         1.3739],\n",
      "        [1.3983, 1.3983, 1.3983, 1.3983, 1.3983, 1.3983, 1.3983, 1.3983, 1.3983,\n",
      "         1.3983],\n",
      "        [1.4053, 1.4053, 1.4053, 1.4053, 1.4053, 1.4053, 1.4053, 1.4053, 1.4053,\n",
      "         1.4053]])\n"
     ]
    }
   ],
   "source": [
    "torch.manual_seed(42)\n",
    "a = torch.zeros(10, requires_grad=True)\n",
    "x = torch.randn(10)\n",
    "y = torch.randn(1)\n",
    "eta = 0.1\n",
    "\n",
    "A = []\n",
    "for _ in range(5):\n",
    "    loss = 1/2 * (a @ x - y) ** 2\n",
    "    loss.backward()\n",
    "    a.data -= eta * a.grad\n",
    "    a.grad = None\n",
    "    A.append(a.data.clone())\n",
    "\n",
    "A = torch.stack(A)\n",
    "print(A / (x.view(1, -1) * y * eta))\n"
   ]
  },
  {
   "cell_type": "markdown",
   "metadata": {},
   "source": [
    "but random init is better"
   ]
  },
  {
   "cell_type": "code",
   "execution_count": 346,
   "metadata": {},
   "outputs": [
    {
     "name": "stdout",
     "output_type": "stream",
     "text": [
      "tensor([[ 3.4864e+00,  9.3830e-03,  3.9400e-01, -2.1751e+00,  7.2272e+00,\n",
      "         -2.6053e+00,  1.1181e+01, -6.9395e+00, -5.6242e+00, -3.8006e+00],\n",
      "        [ 3.5437e+00,  6.6683e-02,  4.5130e-01, -2.1178e+00,  7.2845e+00,\n",
      "         -2.5480e+00,  1.1238e+01, -6.8822e+00, -5.5669e+00, -3.7433e+00],\n",
      "        [ 3.5409e+00,  6.3871e-02,  4.4849e-01, -2.1206e+00,  7.2817e+00,\n",
      "         -2.5508e+00,  1.1236e+01, -6.8850e+00, -5.5697e+00, -3.7461e+00],\n",
      "        [ 3.5411e+00,  6.4009e-02,  4.4863e-01, -2.1204e+00,  7.2818e+00,\n",
      "         -2.5507e+00,  1.1236e+01, -6.8849e+00, -5.5695e+00, -3.7460e+00],\n",
      "        [ 3.5411e+00,  6.4002e-02,  4.4862e-01, -2.1205e+00,  7.2818e+00,\n",
      "         -2.5507e+00,  1.1236e+01, -6.8849e+00, -5.5695e+00, -3.7460e+00]])\n"
     ]
    }
   ],
   "source": [
    "torch.manual_seed(42)\n",
    "a = torch.randn(10, requires_grad=True)\n",
    "x = torch.randn(10)\n",
    "y = torch.randn(1)\n",
    "eta = 0.1\n",
    "\n",
    "A = []\n",
    "for _ in range(5):\n",
    "    loss = 1/2 * (a @ x - y) ** 2\n",
    "    loss.backward()\n",
    "    a.data -= eta * a.grad\n",
    "    a.grad = None\n",
    "    A.append(a.data.clone())\n",
    "\n",
    "A = torch.stack(A)\n",
    "print(A / (x.view(1, -1) * y * eta))\n"
   ]
  },
  {
   "cell_type": "markdown",
   "metadata": {},
   "source": [
    "## take note\n",
    "- large value through tanh causes gradient vanishing\n",
    "- dead neurons: during the whole training process, the neuron's grad is always 0, making backward pass unable to update the weight before this neuron\n",
    "  - this may be due to bad initialization\n",
    "  - or large lr forcing the weight out of data manifold, after that the neuron's grad is always 0"
   ]
  },
  {
   "cell_type": "markdown",
   "metadata": {},
   "source": [
    "# batch normalization"
   ]
  },
  {
   "cell_type": "code",
   "execution_count": 371,
   "metadata": {},
   "outputs": [
    {
     "name": "stdout",
     "output_type": "stream",
     "text": [
      "step: 0, train loss: 3.747368335723877, val loss: 3.9844541549682617\n",
      "step: 5000, train loss: 2.5015511512756348, val loss: 2.326988697052002\n",
      "step: 10000, train loss: 2.372178792953491, val loss: 2.271209955215454\n",
      "step: 15000, train loss: 2.4223053455352783, val loss: 2.249488353729248\n",
      "step: 20000, train loss: 2.008833408355713, val loss: 2.2394208908081055\n",
      "step: 25000, train loss: 2.25154709815979, val loss: 2.2271664142608643\n",
      "step: 30000, train loss: 2.091019868850708, val loss: 2.229412317276001\n",
      "step: 35000, train loss: 2.235811471939087, val loss: 2.220167875289917\n",
      "step: 40000, train loss: 2.358311891555786, val loss: 2.2133467197418213\n",
      "step: 45000, train loss: 2.398972988128662, val loss: 2.200223445892334\n",
      "step: 50000, train loss: 2.2789223194122314, val loss: 2.20524525642395\n",
      "step: 55000, train loss: 2.4336771965026855, val loss: 2.199892520904541\n",
      "step: 60000, train loss: 1.864798665046692, val loss: 2.209871292114258\n",
      "step: 65000, train loss: 2.31721568107605, val loss: 2.1844756603240967\n",
      "step: 70000, train loss: 2.1139369010925293, val loss: 2.192605972290039\n",
      "step: 75000, train loss: 2.0859591960906982, val loss: 2.1994400024414062\n",
      "step: 80000, train loss: 2.3094241619110107, val loss: 2.194912910461426\n",
      "step: 85000, train loss: 2.4920313358306885, val loss: 2.203535318374634\n",
      "step: 90000, train loss: 2.2765235900878906, val loss: 2.1927967071533203\n",
      "step: 95000, train loss: 1.779826283454895, val loss: 2.1848106384277344\n",
      "step: 100000, train loss: 2.3647875785827637, val loss: 2.184251308441162\n",
      "step: 105000, train loss: 2.16025972366333, val loss: 2.1271252632141113\n",
      "step: 110000, train loss: 2.194039821624756, val loss: 2.1270029544830322\n",
      "step: 115000, train loss: 2.142089605331421, val loss: 2.126659631729126\n",
      "step: 120000, train loss: 2.2590525150299072, val loss: 2.125462532043457\n",
      "step: 125000, train loss: 2.1504967212677, val loss: 2.124083995819092\n",
      "step: 130000, train loss: 2.1127569675445557, val loss: 2.124119520187378\n",
      "step: 135000, train loss: 1.8284887075424194, val loss: 2.125035047531128\n",
      "step: 140000, train loss: 1.9586701393127441, val loss: 2.12286639213562\n",
      "step: 145000, train loss: 2.3752920627593994, val loss: 2.12302303314209\n",
      "step: 150000, train loss: 2.097768783569336, val loss: 2.121436357498169\n",
      "step: 155000, train loss: 1.765143871307373, val loss: 2.1226141452789307\n",
      "step: 160000, train loss: 2.2949459552764893, val loss: 2.123223066329956\n",
      "step: 165000, train loss: 2.1469554901123047, val loss: 2.122109889984131\n",
      "step: 170000, train loss: 2.0401716232299805, val loss: 2.1216812133789062\n",
      "step: 175000, train loss: 2.29469895362854, val loss: 2.121685028076172\n",
      "step: 180000, train loss: 1.9720860719680786, val loss: 2.122673749923706\n",
      "step: 185000, train loss: 2.1309618949890137, val loss: 2.121385335922241\n",
      "step: 190000, train loss: 2.1972851753234863, val loss: 2.119894504547119\n",
      "step: 195000, train loss: 2.2115325927734375, val loss: 2.120704412460327\n"
     ]
    }
   ],
   "source": [
    "n_embd = 10\n",
    "n_hidden = 200\n",
    "\n",
    "torch.manual_seed(42)\n",
    "C = torch.randn(27, n_embd)\n",
    "w1 = torch.randn(n_embd * 3, n_hidden) * (n_embd * 3) ** -0.5\n",
    "# b1 = torch.randn(n_hidden) * 0.01  # this is cancel out by batch normalization\n",
    "w2 = torch.randn(n_hidden, 27) * (n_hidden) ** -0.5 * (5/3)\n",
    "b2 = torch.randn(27) * 0\n",
    "bnw = torch.ones(n_hidden)\n",
    "bnb = torch.zeros(n_hidden)\n",
    "params = [C, w1, w2, b2, bnw, bnb]\n",
    "for p in params:\n",
    "    p.requires_grad = True\n",
    "\n",
    "bs = 32\n",
    "n_steps = 200000\n",
    "\n",
    "\n",
    "for step in range(n_steps):\n",
    "    idx = torch.randint(0, X_train.shape[0], (bs,))\n",
    "    x = X_train[idx]\n",
    "    y = Y_train[idx]\n",
    "    emb = C[x].view(x.shape[0], -1)\n",
    "    hpreact = emb @ w1\n",
    "    hpreact = (hpreact - hpreact.mean(dim=0, keepdim=True)) / hpreact.std(dim=0, keepdim=True) * bnw + bnb\n",
    "    h = hpreact.tanh()\n",
    "    logits = h @ w2 + b2\n",
    "    loss = F.cross_entropy(logits, y)\n",
    "    if step % 5000 == 0:\n",
    "        with torch.no_grad():\n",
    "            emb = C[X_val].view(X_val.shape[0], -1)\n",
    "            hpreact = emb @ w1\n",
    "            hpreact = (hpreact - hpreact.mean(dim=0, keepdim=True)) / hpreact.std(dim=0, keepdim=True) * bnw + bnb\n",
    "            h = hpreact.tanh()\n",
    "            logits = h @ w2 + b2\n",
    "            val_loss = F.cross_entropy(logits, Y_val)\n",
    "            print(f'step: {step}, train loss: {loss.item()}, val loss: {val_loss.item()}')\n",
    "    loss.backward()\n",
    "    lr = 0.1 if step < 100000 else 0.01\n",
    "    for p in params:\n",
    "        p.data -= lr * p.grad\n",
    "        p.grad = None\n",
    "    "
   ]
  },
  {
   "cell_type": "code",
   "execution_count": 372,
   "metadata": {},
   "outputs": [
    {
     "data": {
      "text/plain": [
       "tensor(2.1145)"
      ]
     },
     "execution_count": 372,
     "metadata": {},
     "output_type": "execute_result"
    }
   ],
   "source": [
    "with torch.no_grad():\n",
    "    emb = C[X_test].view(X_test.shape[0], -1)\n",
    "    hpreact = emb @ w1\n",
    "    hpreact = (hpreact - hpreact.mean(dim=0, keepdim=True)) / hpreact.std(dim=0, keepdim=True) * bnw + bnb\n",
    "    h = hpreact.tanh()\n",
    "    logits = h @ w2 + b2\n",
    "    val_loss = F.cross_entropy(logits, Y_test)\n",
    "\n",
    "val_loss"
   ]
  },
  {
   "cell_type": "markdown",
   "metadata": {},
   "source": [
    "## test single example\n",
    "need to estimate mean and std of the hidden states"
   ]
  },
  {
   "cell_type": "code",
   "execution_count": 373,
   "metadata": {},
   "outputs": [
    {
     "name": "stdout",
     "output_type": "stream",
     "text": [
      "step: 0, train loss: 3.747368335723877, val loss: 3.9844541549682617\n",
      "step: 5000, train loss: 2.5015511512756348, val loss: 2.326988697052002\n",
      "step: 10000, train loss: 2.372178792953491, val loss: 2.271209955215454\n",
      "step: 15000, train loss: 2.4223053455352783, val loss: 2.249488353729248\n",
      "step: 20000, train loss: 2.008833408355713, val loss: 2.2394208908081055\n",
      "step: 25000, train loss: 2.25154709815979, val loss: 2.2271664142608643\n",
      "step: 30000, train loss: 2.091019868850708, val loss: 2.229412317276001\n",
      "step: 35000, train loss: 2.235811471939087, val loss: 2.220167875289917\n",
      "step: 40000, train loss: 2.358311891555786, val loss: 2.2133467197418213\n",
      "step: 45000, train loss: 2.398972988128662, val loss: 2.200223445892334\n",
      "step: 50000, train loss: 2.2789223194122314, val loss: 2.20524525642395\n",
      "step: 55000, train loss: 2.4336771965026855, val loss: 2.199892520904541\n",
      "step: 60000, train loss: 1.864798665046692, val loss: 2.209871292114258\n",
      "step: 65000, train loss: 2.31721568107605, val loss: 2.1844756603240967\n",
      "step: 70000, train loss: 2.1139369010925293, val loss: 2.192605972290039\n",
      "step: 75000, train loss: 2.0859591960906982, val loss: 2.1994400024414062\n",
      "step: 80000, train loss: 2.3094241619110107, val loss: 2.194912910461426\n",
      "step: 85000, train loss: 2.4920313358306885, val loss: 2.203535318374634\n",
      "step: 90000, train loss: 2.2765235900878906, val loss: 2.1927967071533203\n",
      "step: 95000, train loss: 1.779826283454895, val loss: 2.1848106384277344\n",
      "step: 100000, train loss: 2.3647875785827637, val loss: 2.184251308441162\n",
      "step: 105000, train loss: 2.16025972366333, val loss: 2.1271252632141113\n",
      "step: 110000, train loss: 2.194039821624756, val loss: 2.1270029544830322\n",
      "step: 115000, train loss: 2.142089605331421, val loss: 2.126659631729126\n",
      "step: 120000, train loss: 2.2590525150299072, val loss: 2.125462532043457\n",
      "step: 125000, train loss: 2.1504967212677, val loss: 2.124083995819092\n",
      "step: 130000, train loss: 2.1127569675445557, val loss: 2.124119520187378\n",
      "step: 135000, train loss: 1.8284887075424194, val loss: 2.125035047531128\n",
      "step: 140000, train loss: 1.9586701393127441, val loss: 2.12286639213562\n",
      "step: 145000, train loss: 2.3752920627593994, val loss: 2.12302303314209\n",
      "step: 150000, train loss: 2.097768783569336, val loss: 2.121436357498169\n",
      "step: 155000, train loss: 1.765143871307373, val loss: 2.1226141452789307\n",
      "step: 160000, train loss: 2.2949459552764893, val loss: 2.123223066329956\n",
      "step: 165000, train loss: 2.1469554901123047, val loss: 2.122109889984131\n",
      "step: 170000, train loss: 2.0401716232299805, val loss: 2.1216812133789062\n",
      "step: 175000, train loss: 2.29469895362854, val loss: 2.121685028076172\n",
      "step: 180000, train loss: 1.9720860719680786, val loss: 2.122673749923706\n",
      "step: 185000, train loss: 2.1309618949890137, val loss: 2.121385335922241\n",
      "step: 190000, train loss: 2.1972851753234863, val loss: 2.119894504547119\n",
      "step: 195000, train loss: 2.2115325927734375, val loss: 2.120704412460327\n"
     ]
    }
   ],
   "source": [
    "n_embd = 10\n",
    "n_hidden = 200\n",
    "\n",
    "torch.manual_seed(42)\n",
    "C = torch.randn(27, n_embd)\n",
    "w1 = torch.randn(n_embd * 3, n_hidden) * (n_embd * 3) ** -0.5\n",
    "w2 = torch.randn(n_hidden, 27) * (n_hidden) ** -0.5 * (5/3)\n",
    "b2 = torch.randn(27) * 0\n",
    "bnw = torch.ones(n_hidden)\n",
    "bnb = torch.zeros(n_hidden)\n",
    "params = [C, w1, w2, b2, bnw, bnb]\n",
    "for p in params:\n",
    "    p.requires_grad = True\n",
    "bnmean_running = torch.zeros(n_hidden)\n",
    "bnstd_running = torch.ones(n_hidden)\n",
    "\n",
    "bs = 32\n",
    "n_steps = 200000\n",
    "\n",
    "\n",
    "for step in range(n_steps):\n",
    "    idx = torch.randint(0, X_train.shape[0], (bs,))\n",
    "    x = X_train[idx]\n",
    "    y = Y_train[idx]\n",
    "    emb = C[x].view(x.shape[0], -1)\n",
    "    hpreact = emb @ w1\n",
    "    bnmeani = hpreact.mean(dim=0, keepdim=True)\n",
    "    bnstdi = hpreact.std(dim=0, keepdim=True)\n",
    "    hpreact = (hpreact - bnmeani) / bnstdi * bnw + bnb\n",
    "\n",
    "    with torch.no_grad():\n",
    "        bnmean_running = bnmean_running * 0.99 + bnmeani * 0.01\n",
    "        bnstd_running = bnstd_running * 0.99 + bnstdi * 0.01\n",
    "\n",
    "    h = hpreact.tanh()\n",
    "    logits = h @ w2 + b2\n",
    "    loss = F.cross_entropy(logits, y)\n",
    "    if step % 5000 == 0:\n",
    "        with torch.no_grad():\n",
    "            emb = C[X_val].view(X_val.shape[0], -1)\n",
    "            hpreact = emb @ w1\n",
    "            hpreact = (hpreact - hpreact.mean(dim=0, keepdim=True)) / hpreact.std(dim=0, keepdim=True) * bnw + bnb\n",
    "            h = hpreact.tanh()\n",
    "            logits = h @ w2 + b2\n",
    "            val_loss = F.cross_entropy(logits, Y_val)\n",
    "            print(f'step: {step}, train loss: {loss.item()}, val loss: {val_loss.item()}')\n",
    "    loss.backward()\n",
    "    lr = 0.1 if step < 100000 else 0.01\n",
    "    for p in params:\n",
    "        p.data -= lr * p.grad\n",
    "        p.grad = None\n",
    "    "
   ]
  },
  {
   "cell_type": "markdown",
   "metadata": {},
   "source": [
    "running mean and std are almost the same as the mean and std of the training data"
   ]
  },
  {
   "cell_type": "code",
   "execution_count": 374,
   "metadata": {},
   "outputs": [
    {
     "data": {
      "text/plain": [
       "(tensor([ 0.6718,  0.4164,  0.0921, -0.5415,  0.3795, -0.8223, -1.5762,  0.2370,\n",
       "         -0.4165, -0.2239]),\n",
       " tensor([ 0.6803,  0.4131,  0.0650, -0.5341,  0.3491, -0.8315, -1.5521,  0.2396,\n",
       "         -0.4252, -0.2152]),\n",
       " tensor([1.7298, 1.3654, 2.3272, 1.7531, 2.0221, 1.9044, 1.9937, 1.3250, 1.9456,\n",
       "         1.7565]),\n",
       " tensor([1.7263, 1.3627, 2.2822, 1.7338, 1.9936, 1.8622, 1.9957, 1.3135, 1.9481,\n",
       "         1.7128]))"
      ]
     },
     "execution_count": 374,
     "metadata": {},
     "output_type": "execute_result"
    }
   ],
   "source": [
    "with torch.no_grad():\n",
    "    emb = C[X_train].view(X_train.shape[0], -1)\n",
    "    hpreact = emb @ w1\n",
    "    bnmean = hpreact.mean(dim=0, keepdim=True)\n",
    "    bnstd = hpreact.std(dim=0, keepdim=True)\n",
    "\n",
    "\n",
    "bnmean[0,:10], bnmean_running[0,:10], bnstd[0,:10], bnstd_running[0,:10]"
   ]
  },
  {
   "cell_type": "code",
   "execution_count": 375,
   "metadata": {},
   "outputs": [
    {
     "data": {
      "text/plain": [
       "tensor(2.1145)"
      ]
     },
     "execution_count": 375,
     "metadata": {},
     "output_type": "execute_result"
    }
   ],
   "source": [
    "with torch.no_grad():\n",
    "    emb = C[X_test].view(X_test.shape[0], -1)\n",
    "    hpreact = emb @ w1\n",
    "    hpreact = (hpreact - hpreact.mean(dim=0, keepdim=True)) / hpreact.std(dim=0, keepdim=True) * bnw + bnb\n",
    "    h = hpreact.tanh()\n",
    "    logits = h @ w2 + b2\n",
    "    val_loss = F.cross_entropy(logits, Y_test)\n",
    "\n",
    "val_loss\n"
   ]
  },
  {
   "cell_type": "code",
   "execution_count": 376,
   "metadata": {},
   "outputs": [
    {
     "data": {
      "text/plain": [
       "tensor(2.1147)"
      ]
     },
     "execution_count": 376,
     "metadata": {},
     "output_type": "execute_result"
    }
   ],
   "source": [
    "with torch.no_grad():\n",
    "    emb = C[X_test].view(X_test.shape[0], -1)\n",
    "    hpreact = emb @ w1\n",
    "    hpreact = (hpreact - bnmean_running) / bnstd_running * bnw + bnb\n",
    "    h = hpreact.tanh()\n",
    "    logits = h @ w2 + b2\n",
    "    val_loss = F.cross_entropy(logits, Y_test)\n",
    "\n",
    "val_loss\n"
   ]
  },
  {
   "cell_type": "code",
   "execution_count": null,
   "metadata": {},
   "outputs": [],
   "source": []
  }
 ],
 "metadata": {
  "kernelspec": {
   "display_name": "test",
   "language": "python",
   "name": "python3"
  },
  "language_info": {
   "codemirror_mode": {
    "name": "ipython",
    "version": 3
   },
   "file_extension": ".py",
   "mimetype": "text/x-python",
   "name": "python",
   "nbconvert_exporter": "python",
   "pygments_lexer": "ipython3",
   "version": "3.11.9"
  }
 },
 "nbformat": 4,
 "nbformat_minor": 2
}
