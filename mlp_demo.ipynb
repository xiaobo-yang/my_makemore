{
 "cells": [
  {
   "cell_type": "code",
   "execution_count": 36,
   "metadata": {},
   "outputs": [
    {
     "data": {
      "text/plain": [
       "(torch.Size([169062, 8]),\n",
       " torch.Size([21133, 8]),\n",
       " torch.Size([21133, 8]),\n",
       " torch.Size([169062]),\n",
       " torch.Size([21133]),\n",
       " torch.Size([21133]))"
      ]
     },
     "execution_count": 36,
     "metadata": {},
     "output_type": "execute_result"
    }
   ],
   "source": [
    "import random\n",
    "import torch\n",
    "\n",
    "words = open('names.txt', 'r').read().splitlines()\n",
    "words = list(set(words))\n",
    "random.seed(42)\n",
    "random.shuffle(words)\n",
    "\n",
    "chs = list(set(''.join(words + ['.'])))\n",
    "chs = sorted(chs, reverse=False)\n",
    "stoi = {ch: i for i, ch in enumerate(chs)}\n",
    "itos = {i: ch for i, ch in enumerate(chs)}\n",
    "\n",
    "# predict next token use previous tokens\n",
    "block_size = 8\n",
    "X, Y = [], []\n",
    "\n",
    "for w in words:\n",
    "    context = '.' * block_size\n",
    "    for ch in w + '.':\n",
    "        x = [stoi[c] for c in context]\n",
    "        y = stoi[ch]\n",
    "        X.append(x)\n",
    "        Y.append(y)\n",
    "        context = context[1:] + ch\n",
    "\n",
    "X = torch.tensor(X)\n",
    "Y = torch.tensor(Y)\n",
    "n1, n2  = int(0.8 * len(X)), int(0.9 * len(X))\n",
    "\n",
    "X_train, X_val, X_test = X.tensor_split([n1, n2])\n",
    "Y_train, Y_val, Y_test = Y.tensor_split([n1, n2])\n",
    "\n",
    "X_train.shape, X_val.shape, X_test.shape, Y_train.shape, Y_val.shape, Y_test.shape\n"
   ]
  },
  {
   "cell_type": "markdown",
   "metadata": {},
   "source": [
    "# play with MLP from tiny_torch"
   ]
  },
  {
   "cell_type": "code",
   "execution_count": 37,
   "metadata": {},
   "outputs": [],
   "source": [
    "from tiny_torch import *\n",
    "\n",
    "class MLP(Module):\n",
    "    def __init__(self, vocab_size, block_size, n_embd, n_hidden, n_layer, dtype=torch.float64, generator=None):\n",
    "        layers = [Embedding(vocab_size, n_embd, dtype=dtype, generator=generator), Flatten(), Linear(n_embd * block_size, n_hidden, bias=False, dtype=dtype, generator=generator), BatchNorm1d(n_hidden, dtype=dtype), Tanh()]\n",
    "        for _ in range(n_layer-2):\n",
    "            layers.extend([Linear(n_hidden, n_hidden, bias=False, dtype=dtype, generator=generator), BatchNorm1d(n_hidden, dtype=dtype), Tanh()])\n",
    "        layers.extend([Linear(n_hidden, vocab_size, bias=False, dtype=dtype, generator=generator),])\n",
    "        layers[-1].weight.data *= 0.1\n",
    "        self.net = Sequential(layers)\n",
    "        self.block_size = block_size\n",
    "\n",
    "    def parameters(self):\n",
    "        return self.net.parameters()\n",
    "    \n",
    "    def grads(self):\n",
    "        return self.net.grads()\n",
    "\n",
    "    def __call__(self, x):\n",
    "        return self.net(x)\n",
    "\n",
    "    def backward(self, grad):\n",
    "        grad = self.net.backward(grad)\n",
    "        return grad # None\n",
    "    \n",
    "    def eval(self):\n",
    "        for l in self.net.layers:\n",
    "            l._training = False\n",
    "\n",
    "    def train(self):\n",
    "        for l in self.net.layers:\n",
    "            l._training = True\n",
    "\n",
    "    def generate(self, s, max_new_tokens, do_sample=True, temperature=1.0):\n",
    "        assert isinstance(s, str), 'str in, str out'\n",
    "        assert len(s) == self.block_size, 'input string length must be equal to block size'\n",
    "        x = torch.tensor([[stoi[ch] for ch in s]])\n",
    "        for _ in range(max_new_tokens):\n",
    "            cond = x[:, -self.block_size:]\n",
    "            logits = self(cond) * (1 / temperature)\n",
    "            probs = logits.softmax(dim=-1)\n",
    "            if do_sample:\n",
    "                next_x = torch.multinomial(probs, num_samples=1)\n",
    "            else:\n",
    "                next_x = probs.argmax(dim=-1, keepdim=True)\n",
    "            x = torch.cat([x, next_x], dim=-1)\n",
    "            if next_x.item() == 0:\n",
    "                break\n",
    "        s = ''.join([itos[idx.item()] for idx in x[0]])\n",
    "        return s\n",
    "\n"
   ]
  },
  {
   "cell_type": "code",
   "execution_count": 38,
   "metadata": {},
   "outputs": [
    {
     "name": "stdout",
     "output_type": "stream",
     "text": [
      "step: 0, train loss: 3.3127483401700273, val loss: 3.2941118417339075\n",
      "step: 10000, train loss: 2.26739235549225, val loss: 2.2030990160991224\n",
      "step: 20000, train loss: 2.43599612468494, val loss: 2.1630993890083388\n",
      "step: 30000, train loss: 1.9635388072401714, val loss: 2.1458223364477393\n",
      "step: 40000, train loss: 1.978665318799592, val loss: 2.160537304733969\n",
      "step: 50000, train loss: 1.9285689148202694, val loss: 2.1258219810314922\n",
      "step: 60000, train loss: 2.02827177167698, val loss: 2.1338424633495703\n",
      "step: 70000, train loss: 2.146752757874713, val loss: 2.1116228856299855\n",
      "step: 80000, train loss: 2.1641335382329885, val loss: 2.12193717875174\n",
      "step: 90000, train loss: 2.1563847748906753, val loss: 2.1034157352280896\n",
      "step: 100000, train loss: 2.026918874122316, val loss: 2.105088718890947\n",
      "step: 110000, train loss: 1.8156670013505576, val loss: 2.1116454525404267\n",
      "step: 120000, train loss: 2.093426299612138, val loss: 2.102986946916308\n",
      "step: 130000, train loss: 1.8416372446144074, val loss: 2.127346536618099\n",
      "step: 140000, train loss: 1.8933779394944663, val loss: 2.109399637407597\n",
      "step: 150000, train loss: 2.339028627696025, val loss: 2.1007241688709777\n",
      "step: 160000, train loss: 1.691755535947421, val loss: 2.030377648764109\n",
      "step: 170000, train loss: 2.072317183258738, val loss: 2.0300730169452197\n",
      "step: 180000, train loss: 2.0224833849925496, val loss: 2.0278378644643897\n",
      "step: 190000, train loss: 1.838087278946431, val loss: 2.026794185992143\n"
     ]
    }
   ],
   "source": [
    "n_embd = 10\n",
    "n_hidden = 200\n",
    "vocab_size = 27\n",
    "n_layer = 2\n",
    "dtype = torch.float64\n",
    "eval_interval = 10000\n",
    "bs = 32\n",
    "n_steps = 200000\n",
    "ini_lr = 0.1\n",
    "lossis = []\n",
    "\n",
    "# model\n",
    "torch.manual_seed(42)\n",
    "model = MLP(vocab_size, block_size, n_embd, n_hidden, n_layer, dtype)\n",
    "loss_fn = CrossEntropyLoss()\n",
    "optimizer = SGD(model, ini_lr)\n",
    "\n",
    "\n",
    "model.train()\n",
    "for step in range(n_steps):\n",
    "    lr = ini_lr if step < int(n_steps * 0.75) else ini_lr / 10\n",
    "    optimizer.lr = lr\n",
    "    idx = torch.randint(0, X_train.shape[0], (bs,))\n",
    "    x, y = X_train[idx], Y_train[idx]\n",
    "\n",
    "    # forward\n",
    "    logits = model(x)\n",
    "    loss = loss_fn(logits, y)\n",
    "\n",
    "    # backward\n",
    "    # since grad buffer is stored in model class, we need to call backward imediately after forward\n",
    "    # otherwise, grad buffer will be overwritten by next forward\n",
    "    h_grad = loss_fn.backward(grad=1.0) # last layer, dloss=1.0\n",
    "    model.backward(h_grad)\n",
    "    \n",
    "    # update\n",
    "    optimizer.step()\n",
    "    optimizer.zero_grad()\n",
    "\n",
    "    # eval\n",
    "    if step % eval_interval == 0: \n",
    "        model.eval()\n",
    "        x, y = X_val, Y_val\n",
    "        logits = model(x)\n",
    "        val_loss = loss_fn(logits, y) # val loss is actually one step later than train loss\n",
    "        print(f'step: {step}, train loss: {loss.item()}, val loss: {val_loss.item()}')\n",
    "        model.train()\n",
    "    lossis.append(loss.log10().item())\n",
    "    "
   ]
  },
  {
   "cell_type": "code",
   "execution_count": 39,
   "metadata": {},
   "outputs": [
    {
     "name": "stdout",
     "output_type": "stream",
     "text": [
      "test loss: 2.0453041812010806\n",
      "........anus.\n",
      "........anvi.\n",
      "........samaria.\n",
      "........shantell.\n",
      "........marlayne.\n",
      "........aremi.\n",
      "........carlin.\n",
      "........elianna.\n",
      "........annalis.\n",
      "........kendrick.\n"
     ]
    }
   ],
   "source": [
    "model.eval()\n",
    "x, y = X_test, Y_test\n",
    "logits = model(x)\n",
    "test_loss = loss_fn(logits, y).item()\n",
    "print(f'test loss: {test_loss}')\n",
    "\n",
    "torch.manual_seed(42)\n",
    "for _ in range(10):\n",
    "    out = model.generate('.' * block_size, max_new_tokens=10, do_sample=True, temperature=0.5)\n",
    "    print(out)\n",
    "\n"
   ]
  },
  {
   "cell_type": "code",
   "execution_count": 40,
   "metadata": {},
   "outputs": [
    {
     "data": {
      "image/png": "[encoded data removed]",
      "text/plain": [
       "<Figure size 640x480 with 1 Axes>"
      ]
     },
     "metadata": {},
     "output_type": "display_data"
    }
   ],
   "source": [
    "import matplotlib.pyplot as plt\n",
    "\n",
    "avg_step = 1000\n",
    "plt.plot(torch.tensor(lossis).view(-1, avg_step).mean(dim=1))\n",
    "plt.xlabel(f'per {avg_step} steps')\n",
    "plt.ylabel('avg loss(log10)')\n",
    "plt.show()\n",
    "\n",
    "\n"
   ]
  },
  {
   "cell_type": "markdown",
   "metadata": {},
   "source": [
    "## bench\n",
    "\n",
    "- test loss: 2.2529627839789566 (context length=2)\n",
    "- test loss: 2.0453041812010806 (context length=8)"
   ]
  },
  {
   "cell_type": "markdown",
   "metadata": {},
   "source": [
    "# wavenet"
   ]
  },
  {
   "cell_type": "code",
   "execution_count": null,
   "metadata": {},
   "outputs": [],
   "source": []
  }
 ],
 "metadata": {
  "kernelspec": {
   "display_name": "test",
   "language": "python",
   "name": "python3"
  },
  "language_info": {
   "codemirror_mode": {
    "name": "ipython",
    "version": 3
   },
   "file_extension": ".py",
   "mimetype": "text/x-python",
   "name": "python",
   "nbconvert_exporter": "python",
   "pygments_lexer": "ipython3",
   "version": "3.11.9"
  }
 },
 "nbformat": 4,
 "nbformat_minor": 2
}
