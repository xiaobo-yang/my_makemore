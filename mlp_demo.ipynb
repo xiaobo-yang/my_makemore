{
 "cells": [
  {
   "cell_type": "code",
   "execution_count": 4,
   "metadata": {},
   "outputs": [
    {
     "data": {
      "text/plain": [
       "(torch.Size([169062, 8]),\n",
       " torch.Size([21133, 8]),\n",
       " torch.Size([21133, 8]),\n",
       " torch.Size([169062]),\n",
       " torch.Size([21133]),\n",
       " torch.Size([21133]))"
      ]
     },
     "execution_count": 4,
     "metadata": {},
     "output_type": "execute_result"
    }
   ],
   "source": [
    "import random\n",
    "import torch\n",
    "\n",
    "words = open('names.txt', 'r').read().splitlines()\n",
    "words = sorted(list(set(words))) # set cause uncontrollable randomness， sorted for reproducibility\n",
    "random.seed(42)\n",
    "random.shuffle(words)\n",
    "\n",
    "chs = list(set(''.join(words + ['.'])))\n",
    "chs = sorted(chs, reverse=False)\n",
    "stoi = {ch: i for i, ch in enumerate(chs)}\n",
    "itos = {i: ch for i, ch in enumerate(chs)}\n",
    "\n",
    "# predict next token use previous tokens\n",
    "block_size = 8\n",
    "X, Y = [], []\n",
    "\n",
    "for w in words:\n",
    "    context = '.' * block_size\n",
    "    for ch in w + '.':\n",
    "        x = [stoi[c] for c in context]\n",
    "        y = stoi[ch]\n",
    "        X.append(x)\n",
    "        Y.append(y)\n",
    "        context = context[1:] + ch\n",
    "\n",
    "X = torch.tensor(X)\n",
    "Y = torch.tensor(Y)\n",
    "n1, n2  = int(0.8 * len(X)), int(0.9 * len(X))\n",
    "\n",
    "X_train, X_val, X_test = X.tensor_split([n1, n2])\n",
    "Y_train, Y_val, Y_test = Y.tensor_split([n1, n2])\n",
    "\n",
    "X_train.shape, X_val.shape, X_test.shape, Y_train.shape, Y_val.shape, Y_test.shape\n"
   ]
  },
  {
   "cell_type": "markdown",
   "metadata": {},
   "source": [
    "# play with MLP from tiny_torch"
   ]
  },
  {
   "cell_type": "code",
   "execution_count": 5,
   "metadata": {},
   "outputs": [],
   "source": [
    "from tiny_torch import *\n",
    "\n",
    "class MLP(Module):\n",
    "    def __init__(self, vocab_size, block_size, n_embd, n_hidden, n_layer, dtype=torch.float64, generator=None):\n",
    "        layers = [Embedding(vocab_size, n_embd, dtype=dtype, generator=generator), Flatten(), Linear(n_embd * block_size, n_hidden, bias=False, dtype=dtype, generator=generator), BatchNorm1d(n_hidden, dtype=dtype), Tanh()]\n",
    "        for _ in range(n_layer-2):\n",
    "            layers.extend([Linear(n_hidden, n_hidden, bias=False, dtype=dtype, generator=generator), BatchNorm1d(n_hidden, dtype=dtype), Tanh()])\n",
    "        layers.extend([Linear(n_hidden, vocab_size, bias=False, dtype=dtype, generator=generator),])\n",
    "        layers[-1].weight.data *= 0.1\n",
    "        self.net = Sequential(layers)\n",
    "        self.block_size = block_size\n",
    "\n",
    "    def parameters(self):\n",
    "        return self.net.parameters()\n",
    "    \n",
    "    def grads(self):\n",
    "        return self.net.grads()\n",
    "\n",
    "    def __call__(self, x):\n",
    "        return self.net(x)\n",
    "\n",
    "    def backward(self, grad):\n",
    "        grad = self.net.backward(grad)\n",
    "        return grad # None\n",
    "    \n",
    "    def eval(self):\n",
    "        for l in self.net.layers:\n",
    "            l._training = False\n",
    "\n",
    "    def train(self):\n",
    "        for l in self.net.layers:\n",
    "            l._training = True\n",
    "\n",
    "    def generate(self, s, max_new_tokens, do_sample=True, temperature=1.0):\n",
    "        assert isinstance(s, str), 'str in, str out'\n",
    "        assert len(s) == self.block_size, 'input string length must be equal to block size'\n",
    "        x = torch.tensor([[stoi[ch] for ch in s]])\n",
    "        for _ in range(max_new_tokens):\n",
    "            cond = x[:, -self.block_size:]\n",
    "            logits = self(cond) * (1 / temperature)\n",
    "            probs = logits.softmax(dim=-1)\n",
    "            if do_sample:\n",
    "                next_x = torch.multinomial(probs, num_samples=1)\n",
    "            else:\n",
    "                next_x = probs.argmax(dim=-1, keepdim=True)\n",
    "            x = torch.cat([x, next_x], dim=-1)\n",
    "            if next_x.item() == 0:\n",
    "                break\n",
    "        s = ''.join([itos[idx.item()] for idx in x[0]])\n",
    "        return s\n",
    "\n"
   ]
  },
  {
   "cell_type": "code",
   "execution_count": 6,
   "metadata": {},
   "outputs": [
    {
     "name": "stdout",
     "output_type": "stream",
     "text": [
      "step: 0, train loss: 3.3093357003530555, val loss: 3.293087279158654\n",
      "step: 10000, train loss: 2.191763784254482, val loss: 2.2093348649098226\n",
      "step: 20000, train loss: 2.4868563161483053, val loss: 2.15257082678212\n",
      "step: 30000, train loss: 2.046807956644415, val loss: 2.1572977900821866\n",
      "step: 40000, train loss: 2.1814024571954467, val loss: 2.1539775226591296\n",
      "step: 50000, train loss: 2.0052473252878746, val loss: 2.1388243959220397\n",
      "step: 60000, train loss: 1.9654982391984197, val loss: 2.138379099481987\n",
      "step: 70000, train loss: 1.7149956496091452, val loss: 2.142027638167779\n",
      "step: 80000, train loss: 2.0961788495748976, val loss: 2.118368745953289\n",
      "step: 90000, train loss: 2.1202935940742877, val loss: 2.1018789336395294\n",
      "step: 100000, train loss: 2.2080117011945566, val loss: 2.116812561053327\n",
      "step: 110000, train loss: 1.8761309853083081, val loss: 2.1153260292602236\n",
      "step: 120000, train loss: 1.849259359825356, val loss: 2.100174165949353\n",
      "step: 130000, train loss: 2.282113091446113, val loss: 2.106273664317106\n",
      "step: 140000, train loss: 2.0929827095709173, val loss: 2.1161770680227843\n",
      "step: 150000, train loss: 1.7344929896969838, val loss: 2.109831545576683\n",
      "step: 160000, train loss: 2.098445176186346, val loss: 2.0328552915111096\n",
      "step: 170000, train loss: 1.912803344969419, val loss: 2.033200805205289\n",
      "step: 180000, train loss: 2.137226729676998, val loss: 2.0316769613734578\n",
      "step: 190000, train loss: 1.7030145633043026, val loss: 2.029925040136406\n"
     ]
    }
   ],
   "source": [
    "n_embd = 10\n",
    "n_hidden = 200\n",
    "vocab_size = 27\n",
    "n_layer = 2\n",
    "dtype = torch.float64\n",
    "eval_interval = 10000\n",
    "bs = 32\n",
    "n_steps = 200000\n",
    "ini_lr = 0.1\n",
    "lossis = []\n",
    "\n",
    "# model\n",
    "torch.manual_seed(42)\n",
    "g = torch.Generator().manual_seed(42)\n",
    "model = MLP(vocab_size, block_size, n_embd, n_hidden, n_layer, dtype)\n",
    "loss_fn = CrossEntropyLoss()\n",
    "optimizer = SGD(model, ini_lr)\n",
    "\n",
    "\n",
    "model.train()\n",
    "for step in range(n_steps):\n",
    "    lr = ini_lr if step < int(n_steps * 0.75) else ini_lr / 10\n",
    "    optimizer.lr = lr\n",
    "    idx = torch.randint(0, X_train.shape[0], (bs,), generator=g)\n",
    "    x, y = X_train[idx], Y_train[idx]\n",
    "\n",
    "    # forward\n",
    "    logits = model(x)\n",
    "    loss = loss_fn(logits, y)\n",
    "\n",
    "    # backward\n",
    "    # since grad buffer is stored in model class, we need to call backward imediately after forward\n",
    "    # otherwise, grad buffer will be overwritten by next forward\n",
    "    h_grad = loss_fn.backward(grad=1.0) # last layer, dloss=1.0\n",
    "    model.backward(h_grad)\n",
    "    \n",
    "    # update\n",
    "    optimizer.step()\n",
    "    optimizer.zero_grad()\n",
    "\n",
    "    # eval\n",
    "    if step % eval_interval == 0: \n",
    "        model.eval()\n",
    "        x, y = X_val, Y_val\n",
    "        logits = model(x)\n",
    "        val_loss = loss_fn(logits, y) # val loss is actually one step later than train loss\n",
    "        print(f'step: {step}, train loss: {loss.item()}, val loss: {val_loss.item()}')\n",
    "        model.train()\n",
    "    lossis.append(loss.log10().item())\n",
    "    "
   ]
  },
  {
   "cell_type": "code",
   "execution_count": 7,
   "metadata": {},
   "outputs": [
    {
     "name": "stdout",
     "output_type": "stream",
     "text": [
      "test loss: 2.044092865367425\n",
      "........anuel.\n",
      "........avale.\n",
      "........aariana.\n",
      "........antelis.\n",
      "........silayah.\n",
      "........arthan.\n",
      "........annal.\n",
      "........emilynn.\n",
      "........annalis.\n",
      "........angelina.\n"
     ]
    }
   ],
   "source": [
    "model.eval()\n",
    "x, y = X_test, Y_test\n",
    "logits = model(x)\n",
    "test_loss = loss_fn(logits, y).item()\n",
    "print(f'test loss: {test_loss}')\n",
    "\n",
    "torch.manual_seed(42)\n",
    "for _ in range(10):\n",
    "    out = model.generate('.' * block_size, max_new_tokens=10, do_sample=True, temperature=0.5)\n",
    "    print(out)\n",
    "\n"
   ]
  },
  {
   "cell_type": "code",
   "execution_count": 8,
   "metadata": {},
   "outputs": [
    {
     "data": {
      "image/png": "[encoded data removed]",
      "text/plain": [
       "<Figure size 640x480 with 1 Axes>"
      ]
     },
     "metadata": {},
     "output_type": "display_data"
    }
   ],
   "source": [
    "import matplotlib.pyplot as plt\n",
    "\n",
    "avg_step = 1000\n",
    "plt.plot(torch.tensor(lossis).view(-1, avg_step).mean(dim=1))\n",
    "plt.xlabel(f'per {avg_step} steps')\n",
    "plt.ylabel('avg loss(log10)')\n",
    "plt.show()\n",
    "\n",
    "\n"
   ]
  },
  {
   "cell_type": "markdown",
   "metadata": {},
   "source": [
    "## benchmark\n",
    "\n",
    "- test loss: 2.2470074159183913 (context length=2)\n",
    "- test loss: 2.044092865367425 (context length=8)"
   ]
  },
  {
   "cell_type": "markdown",
   "metadata": {},
   "source": [
    "# wavenet"
   ]
  },
  {
   "cell_type": "code",
   "execution_count": null,
   "metadata": {},
   "outputs": [],
   "source": []
  },
  {
   "cell_type": "code",
   "execution_count": null,
   "metadata": {},
   "outputs": [],
   "source": []
  }
 ],
 "metadata": {
  "kernelspec": {
   "display_name": "test",
   "language": "python",
   "name": "python3"
  },
  "language_info": {
   "codemirror_mode": {
    "name": "ipython",
    "version": 3
   },
   "file_extension": ".py",
   "mimetype": "text/x-python",
   "name": "python",
   "nbconvert_exporter": "python",
   "pygments_lexer": "ipython3",
   "version": "3.11.9"
  }
 },
 "nbformat": 4,
 "nbformat_minor": 2
}
