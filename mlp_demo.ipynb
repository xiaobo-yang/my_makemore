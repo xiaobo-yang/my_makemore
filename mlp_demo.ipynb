{
 "cells": [
  {
   "cell_type": "code",
   "execution_count": 1,
   "metadata": {},
   "outputs": [
    {
     "data": {
      "text/plain": [
       "(torch.Size([169062, 8]),\n",
       " torch.Size([21133, 8]),\n",
       " torch.Size([21133, 8]),\n",
       " torch.Size([169062]),\n",
       " torch.Size([21133]),\n",
       " torch.Size([21133]))"
      ]
     },
     "execution_count": 1,
     "metadata": {},
     "output_type": "execute_result"
    }
   ],
   "source": [
    "import random\n",
    "import torch\n",
    "\n",
    "words = open('names.txt', 'r').read().splitlines()\n",
    "words = sorted(list(set(words))) # set cause uncontrollable randomness， sorted for reproducibility\n",
    "random.seed(42)\n",
    "random.shuffle(words)\n",
    "\n",
    "chs = list(set(''.join(words + ['.'])))\n",
    "chs = sorted(chs, reverse=False)\n",
    "stoi = {ch: i for i, ch in enumerate(chs)}\n",
    "itos = {i: ch for i, ch in enumerate(chs)}\n",
    "\n",
    "# predict next token use previous tokens\n",
    "block_size = 8\n",
    "X, Y = [], []\n",
    "\n",
    "for w in words:\n",
    "    context = '.' * block_size\n",
    "    for ch in w + '.':\n",
    "        x = [stoi[c] for c in context]\n",
    "        y = stoi[ch]\n",
    "        X.append(x)\n",
    "        Y.append(y)\n",
    "        context = context[1:] + ch\n",
    "\n",
    "X = torch.tensor(X)\n",
    "Y = torch.tensor(Y)\n",
    "n1, n2  = int(0.8 * len(X)), int(0.9 * len(X))\n",
    "\n",
    "X_train, X_val, X_test = X.tensor_split([n1, n2])\n",
    "Y_train, Y_val, Y_test = Y.tensor_split([n1, n2])\n",
    "\n",
    "X_train.shape, X_val.shape, X_test.shape, Y_train.shape, Y_val.shape, Y_test.shape\n"
   ]
  },
  {
   "cell_type": "markdown",
   "metadata": {},
   "source": [
    "# play with MLP from tiny_torch"
   ]
  },
  {
   "cell_type": "code",
   "execution_count": 2,
   "metadata": {},
   "outputs": [],
   "source": [
    "from tiny_torch import *\n",
    "\n",
    "class MLP(Module):\n",
    "    def __init__(self, vocab_size, block_size, n_embd, n_hidden, n_layer, dtype=torch.float64, generator=None):\n",
    "        layers = [Embedding(vocab_size, n_embd, dtype=dtype, generator=generator), Flatten(), Linear(n_embd * block_size, n_hidden, bias=False, dtype=dtype, generator=generator), BatchNorm1d(n_hidden, dtype=dtype), Tanh()]\n",
    "        for _ in range(n_layer-2):\n",
    "            layers.extend([Linear(n_hidden, n_hidden, bias=False, dtype=dtype, generator=generator), BatchNorm1d(n_hidden, dtype=dtype), Tanh()])\n",
    "        layers.extend([Linear(n_hidden, vocab_size, bias=False, dtype=dtype, generator=generator),])\n",
    "        layers[-1].weight.data *= 0.1\n",
    "        self.net = Sequential(layers)\n",
    "        self.block_size = block_size\n",
    "\n",
    "    def parameters(self):\n",
    "        return self.net.parameters()\n",
    "    \n",
    "    def grads(self):\n",
    "        return self.net.grads()\n",
    "\n",
    "    def __call__(self, x):\n",
    "        return self.net(x)\n",
    "\n",
    "    def backward(self, grad):\n",
    "        grad = self.net.backward(grad)\n",
    "        return grad # None\n",
    "    \n",
    "    def eval(self):\n",
    "        for l in self.net.layers:\n",
    "            l._training = False\n",
    "\n",
    "    def train(self):\n",
    "        for l in self.net.layers:\n",
    "            l._training = True\n",
    "\n",
    "    def generate(self, s, max_new_tokens, do_sample=True, temperature=1.0):\n",
    "        assert isinstance(s, str), 'str in, str out'\n",
    "        assert len(s) == self.block_size, 'input string length must be equal to block size'\n",
    "        x = torch.tensor([[stoi[ch] for ch in s]])\n",
    "        for _ in range(max_new_tokens):\n",
    "            cond = x[:, -self.block_size:]\n",
    "            logits = self(cond) * (1 / temperature)\n",
    "            probs = logits.softmax(dim=-1)\n",
    "            if do_sample:\n",
    "                next_x = torch.multinomial(probs, num_samples=1)\n",
    "            else:\n",
    "                next_x = probs.argmax(dim=-1, keepdim=True)\n",
    "            x = torch.cat([x, next_x], dim=-1)\n",
    "            if next_x.item() == 0:\n",
    "                break\n",
    "        s = ''.join([itos[idx.item()] for idx in x[0]])\n",
    "        return s\n",
    "\n"
   ]
  },
  {
   "cell_type": "code",
   "execution_count": 3,
   "metadata": {},
   "outputs": [],
   "source": [
    "n_embd = 10\n",
    "n_hidden = 200\n",
    "vocab_size = 27\n",
    "n_layer = 2\n",
    "dtype = torch.float64\n",
    "eval_interval = 10000\n",
    "bs = 32\n",
    "n_steps = 200000\n",
    "ini_lr = 0.1"
   ]
  },
  {
   "cell_type": "code",
   "execution_count": null,
   "metadata": {},
   "outputs": [
    {
     "name": "stdout",
     "output_type": "stream",
     "text": [
      "step: 0, train loss: 3.3093357003530555, val loss: 3.293087279158654\n",
      "step: 10000, train loss: 2.191763784254482, val loss: 2.2093348649098226\n",
      "step: 20000, train loss: 2.4868563161483053, val loss: 2.15257082678212\n",
      "step: 30000, train loss: 2.046807956644415, val loss: 2.1572977900821866\n",
      "step: 40000, train loss: 2.1814024571954467, val loss: 2.1539775226591296\n",
      "step: 50000, train loss: 2.0052473252878746, val loss: 2.1388243959220397\n",
      "step: 60000, train loss: 1.9654982391984197, val loss: 2.138379099481987\n",
      "step: 70000, train loss: 1.7149956496091452, val loss: 2.142027638167779\n",
      "step: 80000, train loss: 2.0961788495748976, val loss: 2.118368745953289\n",
      "step: 90000, train loss: 2.1202935940742877, val loss: 2.1018789336395294\n",
      "step: 100000, train loss: 2.2080117011945566, val loss: 2.116812561053327\n",
      "step: 110000, train loss: 1.8761309853083081, val loss: 2.1153260292602236\n",
      "step: 120000, train loss: 1.849259359825356, val loss: 2.100174165949353\n",
      "step: 130000, train loss: 2.282113091446113, val loss: 2.106273664317106\n",
      "step: 140000, train loss: 2.0929827095709173, val loss: 2.1161770680227843\n",
      "step: 150000, train loss: 1.7344929896969838, val loss: 2.109831545576683\n",
      "step: 160000, train loss: 2.098445176186346, val loss: 2.0328552915111096\n",
      "step: 170000, train loss: 1.912803344969419, val loss: 2.033200805205289\n",
      "step: 180000, train loss: 2.137226729676998, val loss: 2.0316769613734578\n",
      "step: 190000, train loss: 1.7030145633043026, val loss: 2.029925040136406\n"
     ]
    }
   ],
   "source": [
    "# model\n",
    "torch.manual_seed(42)\n",
    "g = torch.Generator().manual_seed(42)\n",
    "model_mlp = MLP(vocab_size, block_size, n_embd, n_hidden, n_layer, dtype)\n",
    "loss_fn = CrossEntropyLoss()\n",
    "optimizer = SGD(model_mlp, ini_lr)\n",
    "\n",
    "lossis_mlp = []\n",
    "model_mlp.train()\n",
    "for step in range(n_steps):\n",
    "    lr = ini_lr if step < int(n_steps * 0.75) else ini_lr / 10\n",
    "    optimizer.lr = lr\n",
    "    idx = torch.randint(0, X_train.shape[0], (bs,), generator=g)\n",
    "    x, y = X_train[idx], Y_train[idx]\n",
    "\n",
    "    # forward\n",
    "    logits = model_mlp(x)\n",
    "    loss = loss_fn(logits, y)\n",
    "\n",
    "    # backward\n",
    "    # since grad buffer is stored in model class, we need to call backward imediately after forward\n",
    "    # otherwise, grad buffer will be overwritten by next forward\n",
    "    h_grad = loss_fn.backward(grad=1.0) # last layer, dloss=1.0\n",
    "    model_mlp.backward(h_grad)\n",
    "    \n",
    "    # update\n",
    "    optimizer.step()\n",
    "    optimizer.zero_grad()\n",
    "\n",
    "    # eval\n",
    "    if step % eval_interval == 0: \n",
    "        model_mlp.eval()\n",
    "        x, y = X_val, Y_val\n",
    "        logits = model_mlp(x)\n",
    "        val_loss = loss_fn(logits, y) # val loss is actually one step later than train loss\n",
    "        print(f'step: {step}, train loss: {loss.item()}, val loss: {val_loss.item()}')\n",
    "        model_mlp.train()\n",
    "    lossis_mlp.append(loss.log10().item())\n",
    "    "
   ]
  },
  {
   "cell_type": "code",
   "execution_count": 24,
   "metadata": {},
   "outputs": [
    {
     "name": "stdout",
     "output_type": "stream",
     "text": [
      "test loss: 2.044092865367425\n",
      "........anuel.\n",
      "........avale.\n",
      "........aariana.\n",
      "........antelis.\n",
      "........silayah.\n",
      "........arthan.\n",
      "........annal.\n",
      "........emilynn.\n",
      "........annalis.\n",
      "........angelina.\n"
     ]
    }
   ],
   "source": [
    "model_mlp.eval()\n",
    "x, y = X_test, Y_test\n",
    "logits = model_mlp(x)\n",
    "test_loss = loss_fn(logits, y).item()\n",
    "print(f'test loss: {test_loss}')\n",
    "\n",
    "torch.manual_seed(42)\n",
    "for _ in range(10):\n",
    "    out = model_mlp.generate('.' * block_size, max_new_tokens=10, do_sample=True, temperature=0.5)\n",
    "    print(out)\n",
    "\n"
   ]
  },
  {
   "cell_type": "markdown",
   "metadata": {},
   "source": [
    "# wavenet"
   ]
  },
  {
   "cell_type": "code",
   "execution_count": 4,
   "metadata": {},
   "outputs": [],
   "source": [
    "class FlattenWaveNet(Module):\n",
    "\n",
    "    def __repr__(self):\n",
    "        return f'MyFlatten()'\n",
    "\n",
    "    def __call__(self, x):\n",
    "        out =  x.view(x.shape[0], -1, 2 * x.shape[-1])\n",
    "        # backward buffer\n",
    "        self.x_shape = x.shape\n",
    "        return out\n",
    "    \n",
    "    def backward(self, grad):\n",
    "        return grad.view(*self.x_shape)\n",
    "\n",
    "class WaveNet(MLP):\n",
    "    def __init__(self, vocab_size, block_size, n_embd, n_hidden, n_layer, dtype=torch.float64, generator=None):\n",
    "        self.net = Sequential([\n",
    "                Embedding(vocab_size, n_embd, dtype=dtype, generator=generator), # (batch_size, block_size, n_embd)\n",
    "                FlattenWaveNet(), # (batch_size, block_size/2, 2*n_embd)\n",
    "                Linear(n_embd * 2, n_hidden, bias=False, dtype=dtype, generator=generator), BatchNorm1d(n_hidden, dtype=dtype), Tanh(), # (batch_size, block_size/2, n_hidden)\n",
    "                FlattenWaveNet(), # (batch_size, block_size/4, 2*n_hidden)\n",
    "                Linear(n_hidden * 2, n_hidden, bias=False, dtype=dtype, generator=generator), BatchNorm1d(n_hidden, dtype=dtype), Tanh(), # (batch_size, block_size/4, n_hidden)\n",
    "                FlattenWaveNet(), # (batch_size, block_size/8, 2*n_hidden)\n",
    "                Linear(n_hidden * 2, n_hidden, bias=False, dtype=dtype, generator=generator), # (batch_size, block_size/8, n_hidden)\n",
    "                Flatten(), # (batch_size, block_size/8 * n_hidden)\n",
    "                Linear(n_hidden * (block_size // 8), vocab_size, dtype=dtype, generator=generator), # (batch_size, vocab_size)\n",
    "            ])\n",
    "        self.net.layers[-1].weight.data *= 0.1\n",
    "        self.block_size = block_size\n",
    "\n"
   ]
  },
  {
   "cell_type": "code",
   "execution_count": 8,
   "metadata": {},
   "outputs": [
    {
     "name": "stdout",
     "output_type": "stream",
     "text": [
      "step: 0, train loss: 3.295239784480421, val loss: 3.281604722409433\n",
      "step: 10000, train loss: 2.176342913193329, val loss: 2.189661877430116\n",
      "step: 20000, train loss: 2.3453640600586008, val loss: 2.1436807052267657\n",
      "step: 30000, train loss: 2.100791439639391, val loss: 2.1257466490305785\n",
      "step: 40000, train loss: 2.1617079378579587, val loss: 2.1183148440022643\n",
      "step: 50000, train loss: 2.1367990834866486, val loss: 2.1253513552146712\n",
      "step: 60000, train loss: 1.8701158291794027, val loss: 2.12485996314128\n",
      "step: 70000, train loss: 1.6884411716240153, val loss: 2.1253064092175236\n",
      "step: 80000, train loss: 1.9939830047378546, val loss: 2.106515632805017\n",
      "step: 90000, train loss: 2.101642160573537, val loss: 2.1205419553730085\n",
      "step: 100000, train loss: 2.2935913088781152, val loss: 2.1151779733887497\n",
      "step: 110000, train loss: 1.8198578639139198, val loss: 2.1125281592411755\n",
      "step: 120000, train loss: 1.879081069388255, val loss: 2.0994022719075756\n",
      "step: 130000, train loss: 2.1404998070573638, val loss: 2.110405617228315\n",
      "step: 140000, train loss: 2.036195611287988, val loss: 2.1124229174850133\n",
      "step: 150000, train loss: 1.589443677246226, val loss: 2.0889040721793455\n",
      "step: 160000, train loss: 1.936314043383871, val loss: 2.002531700963925\n",
      "step: 170000, train loss: 1.9549746560417725, val loss: 2.006275194247202\n",
      "step: 180000, train loss: 1.9396963937604235, val loss: 2.0049291550649233\n",
      "step: 190000, train loss: 1.7424623217784156, val loss: 2.0080128791536183\n"
     ]
    }
   ],
   "source": [
    "# model\n",
    "torch.manual_seed(42)\n",
    "g = torch.Generator().manual_seed(42)\n",
    "model = WaveNet(vocab_size, block_size, n_embd, n_hidden, n_layer, dtype)\n",
    "loss_fn = CrossEntropyLoss()\n",
    "optimizer = SGD(model, ini_lr)\n",
    "\n",
    "lossis = []\n",
    "model.train()\n",
    "for step in range(n_steps):\n",
    "    lr = ini_lr if step < int(n_steps * 0.75) else ini_lr / 10\n",
    "    optimizer.lr = lr\n",
    "    idx = torch.randint(0, X_train.shape[0], (bs,), generator=g)\n",
    "    x, y = X_train[idx], Y_train[idx]\n",
    "\n",
    "    # forward\n",
    "    logits = model(x)\n",
    "    loss = loss_fn(logits, y)\n",
    "\n",
    "    # backward\n",
    "    # since grad buffer is stored in model class, we need to call backward imediately after forward\n",
    "    # otherwise, grad buffer will be overwritten by next forward\n",
    "    h_grad = loss_fn.backward(grad=1.0) # last layer, dloss=1.0\n",
    "    model.backward(h_grad)\n",
    "    \n",
    "    # update\n",
    "    optimizer.step()\n",
    "    optimizer.zero_grad()\n",
    "\n",
    "    # eval\n",
    "    if step % eval_interval == 0: \n",
    "        model.eval()\n",
    "        x, y = X_val, Y_val\n",
    "        logits = model(x)\n",
    "        val_loss = loss_fn(logits, y) # val loss is actually one step later than train loss\n",
    "        print(f'step: {step}, train loss: {loss.item()}, val loss: {val_loss.item()}')\n",
    "        model.train()\n",
    "    lossis.append(loss.log10().item())\n",
    "    "
   ]
  },
  {
   "cell_type": "code",
   "execution_count": 9,
   "metadata": {},
   "outputs": [
    {
     "name": "stdout",
     "output_type": "stream",
     "text": [
      "test loss: 2.0208288409822788\n",
      "........anuel.\n",
      "........avann.\n",
      "........aarian.\n",
      "........daniella.\n",
      "........silvian.\n",
      "........artina.\n",
      "........annalisa.\n",
      "........ariana.\n",
      "........jamil.\n",
      "........kendrick.\n"
     ]
    }
   ],
   "source": [
    "model.eval()\n",
    "x, y = X_test, Y_test\n",
    "logits = model(x)\n",
    "test_loss = loss_fn(logits, y).item()\n",
    "print(f'test loss: {test_loss}')\n",
    "\n",
    "torch.manual_seed(42)\n",
    "for _ in range(10):\n",
    "    out = model.generate('.' * block_size, max_new_tokens=10, do_sample=True, temperature=0.5)\n",
    "    print(out)\n",
    "\n"
   ]
  },
  {
   "cell_type": "markdown",
   "metadata": {},
   "source": [
    "## verify backprop\n",
    "Exactly same result as torch's backprop. However, manual backprop for large model is much slower than torch's backprop"
   ]
  },
  {
   "cell_type": "code",
   "execution_count": 5,
   "metadata": {},
   "outputs": [
    {
     "name": "stdout",
     "output_type": "stream",
     "text": [
      "model   step: 0, train loss: 3.295239784480421, val loss: 3.281604722409433\n",
      "model_t step: 0, train loss: 3.2952397844804215, val loss: 3.281604722409432\n",
      "\n",
      "model   step: 100, train loss: 2.9963319777109816, val loss: 2.9494392478329816\n",
      "model_t step: 100, train loss: 2.996331977710981, val loss: 2.949439247832981\n",
      "\n",
      "model   step: 200, train loss: 2.5860777176909595, val loss: 2.858149794889696\n",
      "model_t step: 200, train loss: 2.586077717690959, val loss: 2.858149794889696\n",
      "\n",
      "model   step: 300, train loss: 2.1949978135302173, val loss: 2.7305390268357406\n",
      "model_t step: 300, train loss: 2.1949978135302177, val loss: 2.7305390268357406\n",
      "\n",
      "model   step: 400, train loss: 2.057684901801676, val loss: 2.6388978503425236\n",
      "model_t step: 400, train loss: 2.0576849018016765, val loss: 2.6388978503425236\n",
      "\n",
      "model   step: 500, train loss: 2.3047824007453874, val loss: 2.5918259603318354\n",
      "model_t step: 500, train loss: 2.304782400745388, val loss: 2.591825960331836\n",
      "\n",
      "model   step: 600, train loss: 2.4718619967094275, val loss: 2.563577722985035\n",
      "model_t step: 600, train loss: 2.4718619967094275, val loss: 2.563577722985035\n",
      "\n",
      "model   step: 700, train loss: 2.6133898855131257, val loss: 2.554030162041037\n",
      "model_t step: 700, train loss: 2.6133898855131252, val loss: 2.5540301620410366\n",
      "\n",
      "model   step: 800, train loss: 2.5745531952980274, val loss: 2.4974899677009215\n",
      "model_t step: 800, train loss: 2.5745531952980274, val loss: 2.4974899677009215\n",
      "\n",
      "model   step: 900, train loss: 2.4435929689651865, val loss: 2.445174257591141\n",
      "model_t step: 900, train loss: 2.443592968965187, val loss: 2.445174257591141\n",
      "\n"
     ]
    }
   ],
   "source": [
    "import torch.nn.functional as F\n",
    "\n",
    "g = torch.Generator().manual_seed(42)\n",
    "# model\n",
    "torch.manual_seed(42)\n",
    "model = WaveNet(vocab_size, block_size, n_embd, n_hidden, n_layer, dtype)\n",
    "torch.manual_seed(42)\n",
    "model_t = WaveNet(vocab_size, block_size, n_embd, n_hidden, n_layer, dtype)\n",
    "for p in model_t.parameters():\n",
    "    p.requires_grad = True\n",
    "# optimizer\n",
    "optimizer = SGD(model, ini_lr)\n",
    "optimizer_t = torch.optim.SGD(model_t.parameters(), lr=ini_lr)\n",
    "# loss\n",
    "loss_fn = CrossEntropyLoss()\n",
    "loss_fn_t = F.cross_entropy\n",
    "\n",
    "\n",
    "model.train()\n",
    "for step in range(1000):\n",
    "    lr = ini_lr if step < int(n_steps * 0.75) else ini_lr / 10\n",
    "    optimizer.lr = lr\n",
    "    for param_group in optimizer_t.param_groups:\n",
    "        param_group['lr'] = lr\n",
    "    idx = torch.randint(0, X_train.shape[0], (bs,), generator=g)\n",
    "    x, y = X_train[idx], Y_train[idx]\n",
    "\n",
    "    # ---- manual ----\n",
    "    # forward\n",
    "    logits = model(x)\n",
    "    loss = loss_fn(logits, y)\n",
    "    # backward\n",
    "    h_grad = loss_fn.backward(grad=1.0) # last layer, dloss=1.0\n",
    "    model.backward(h_grad)\n",
    "    # update\n",
    "    optimizer.step()\n",
    "    optimizer.zero_grad()\n",
    "\n",
    "    # ---- torch ----\n",
    "    # forward\n",
    "    logits_t = model_t(x)\n",
    "    loss_t = loss_fn_t(logits_t, y)\n",
    "    # backward\n",
    "    loss_t.backward() \n",
    "    # update\n",
    "    optimizer_t.step()\n",
    "    optimizer_t.zero_grad()\n",
    "\n",
    "    # eval\n",
    "    if step % 100 == 0: \n",
    "        x, y = X_val, Y_val\n",
    "        model.eval()\n",
    "        model_t.eval()\n",
    "        logits = model(x)\n",
    "        val_loss = loss_fn(logits, y) # val loss is actually one step later than train loss\n",
    "        print(f'model   step: {step}, train loss: {loss.item()}, val loss: {val_loss.item()}')\n",
    "        with torch.no_grad():\n",
    "            logits_t = model_t(x)\n",
    "            val_loss_t = loss_fn_t(logits_t, y)\n",
    "        print(f'model_t step: {step}, train loss: {loss_t.item()}, val loss: {val_loss_t.item()}')\n",
    "        model.train()\n",
    "        model_t.train()\n",
    "    \n",
    "        print()\n",
    "    "
   ]
  },
  {
   "cell_type": "markdown",
   "metadata": {},
   "source": [
    "## use same params for both mlp and wavenet\n"
   ]
  },
  {
   "cell_type": "code",
   "execution_count": 15,
   "metadata": {},
   "outputs": [
    {
     "name": "stdout",
     "output_type": "stream",
     "text": [
      "model_wavenet(same n_hidden) params: 170497\n",
      "model_wavenet(smaller n_hidden) params: 22261\n",
      "model_mlp params: 22070\n"
     ]
    }
   ],
   "source": [
    "# model\n",
    "model_wavenet = WaveNet(vocab_size, block_size, n_embd, n_hidden, n_layer, dtype)\n",
    "print(f'model_wavenet(same n_hidden) params: {sum(p.numel() for p in model_wavenet.parameters())}')\n",
    "\n",
    "model_wavenet = WaveNet(vocab_size, block_size, n_embd, 68, n_layer, dtype)\n",
    "print(f'model_wavenet(smaller n_hidden) params: {sum(p.numel() for p in model_wavenet.parameters())}')\n",
    "\n",
    "model_mlp = MLP(vocab_size, block_size, n_embd, n_hidden, n_layer, dtype)\n",
    "print(f'model_mlp params: {sum(p.numel() for p in model_mlp.parameters())}')\n",
    "\n",
    "\n"
   ]
  },
  {
   "cell_type": "code",
   "execution_count": 16,
   "metadata": {},
   "outputs": [
    {
     "name": "stdout",
     "output_type": "stream",
     "text": [
      "model_wavenet(smaller n_hidden) params: 22261\n",
      "step: 0, train loss: 3.2822804690201988, val loss: 3.2886486206882064\n",
      "step: 10000, train loss: 2.3184008548508466, val loss: 2.1882070735196897\n",
      "step: 20000, train loss: 2.4167394071676687, val loss: 2.170514457815972\n",
      "step: 30000, train loss: 2.035091568730575, val loss: 2.1553311114048137\n",
      "step: 40000, train loss: 2.138546153875582, val loss: 2.1431237275743844\n",
      "step: 50000, train loss: 2.168353199104633, val loss: 2.1611305440500854\n",
      "step: 60000, train loss: 2.151443875422773, val loss: 2.141949100473955\n",
      "step: 70000, train loss: 1.713752971246734, val loss: 2.1378419338405097\n",
      "step: 80000, train loss: 2.016248005207636, val loss: 2.125168462468205\n",
      "step: 90000, train loss: 2.21206292705931, val loss: 2.1228768232488076\n",
      "step: 100000, train loss: 2.1630326665218864, val loss: 2.1278880849767496\n",
      "step: 110000, train loss: 1.7447426975523928, val loss: 2.115082214733459\n",
      "step: 120000, train loss: 2.0357797732902863, val loss: 2.101159917008005\n",
      "step: 130000, train loss: 2.3080580604347825, val loss: 2.1214706281220406\n",
      "step: 140000, train loss: 2.2452343647464126, val loss: 2.106341240691853\n",
      "step: 150000, train loss: 1.7418694607486243, val loss: 2.1117324943195053\n",
      "step: 160000, train loss: 2.060957766545017, val loss: 2.050606464548545\n",
      "step: 170000, train loss: 2.0478888640227018, val loss: 2.0508440823401464\n",
      "step: 180000, train loss: 2.0586113158199755, val loss: 2.0484310677605193\n",
      "step: 190000, train loss: 1.8156228857187044, val loss: 2.0487094636087475\n"
     ]
    }
   ],
   "source": [
    "# model\n",
    "torch.manual_seed(42)\n",
    "g = torch.Generator().manual_seed(42)\n",
    "model_wavenet = WaveNet(vocab_size, block_size, n_embd, 68, n_layer, dtype)\n",
    "print(f'model_wavenet(smaller n_hidden) params: {sum(p.numel() for p in model_wavenet.parameters())}')\n",
    "loss_fn = CrossEntropyLoss()\n",
    "optimizer = SGD(model_wavenet, ini_lr)\n",
    "\n",
    "lossis_wavenet = []\n",
    "model_wavenet.train()\n",
    "for step in range(n_steps):\n",
    "    lr = ini_lr if step < int(n_steps * 0.75) else ini_lr / 10\n",
    "    optimizer.lr = lr\n",
    "    idx = torch.randint(0, X_train.shape[0], (bs,), generator=g)\n",
    "    x, y = X_train[idx], Y_train[idx]\n",
    "\n",
    "    # forward\n",
    "    logits = model_wavenet(x)\n",
    "    loss = loss_fn(logits, y)\n",
    "\n",
    "    # backward\n",
    "    # since grad buffer is stored in model class, we need to call backward imediately after forward\n",
    "    # otherwise, grad buffer will be overwritten by next forward\n",
    "    h_grad = loss_fn.backward(grad=1.0) # last layer, dloss=1.0\n",
    "    model_wavenet.backward(h_grad)\n",
    "    \n",
    "    # update\n",
    "    optimizer.step()\n",
    "    optimizer.zero_grad()\n",
    "\n",
    "    # eval\n",
    "    if step % eval_interval == 0: \n",
    "        model_wavenet.eval()\n",
    "        x, y = X_val, Y_val\n",
    "        logits = model_wavenet(x)\n",
    "        val_loss = loss_fn(logits, y) # val loss is actually one step later than train loss\n",
    "        print(f'step: {step}, train loss: {loss.item()}, val loss: {val_loss.item()}')\n",
    "        model_wavenet.train()\n",
    "    lossis_wavenet.append(loss.log10().item())\n",
    "    "
   ]
  },
  {
   "cell_type": "code",
   "execution_count": 17,
   "metadata": {},
   "outputs": [
    {
     "name": "stdout",
     "output_type": "stream",
     "text": [
      "test loss: 2.05953992581286\n",
      "........anuel.\n",
      "........matie.\n",
      "........aarian.\n",
      "........daniyah.\n",
      "........marlan.\n",
      "........kaylen.\n",
      "........josiah.\n",
      "........anayah.\n",
      "........aleia.\n",
      "........kensley.\n"
     ]
    }
   ],
   "source": [
    "model_wavenet.eval()\n",
    "x, y = X_test, Y_test\n",
    "logits = model_wavenet(x)\n",
    "test_loss = loss_fn(logits, y).item()\n",
    "print(f'test loss: {test_loss}')\n",
    "\n",
    "torch.manual_seed(42)\n",
    "for _ in range(10):\n",
    "    out = model_wavenet.generate('.' * block_size, max_new_tokens=10, do_sample=True, temperature=0.5)\n",
    "    print(out)\n",
    "\n"
   ]
  },
  {
   "cell_type": "markdown",
   "metadata": {},
   "source": [
    "# benchmark\n",
    "\n",
    "- test loss: 2.2470074159183913 (context length=2)\n",
    "- test loss: 2.044092865367425 (context length=8)\n",
    "- test loss: 2.0208288409822788 (wavenet, same n_hidden, but much more params)\n",
    "- test loss: 2.05953992581286 (wavenet, smaller n_hidden=68)"
   ]
  },
  {
   "cell_type": "code",
   "execution_count": 23,
   "metadata": {},
   "outputs": [
    {
     "data": {
      "image/png": "[encoded data removed]",
      "text/plain": [
       "<Figure size 640x480 with 1 Axes>"
      ]
     },
     "metadata": {},
     "output_type": "display_data"
    }
   ],
   "source": [
    "import matplotlib.pyplot as plt\n",
    "\n",
    "avg_step = 1000\n",
    "plt.plot(torch.tensor(lossis).view(-1, avg_step).mean(dim=1), label='wavenet large')\n",
    "plt.plot(torch.tensor(lossis_wavenet).view(-1, avg_step).mean(dim=1), label='wavenet small')\n",
    "plt.plot(torch.tensor(lossis_mlp).view(-1, avg_step).mean(dim=1), label='mlp')\n",
    "plt.xlabel(f'per {avg_step} steps')\n",
    "plt.ylabel('avg loss(log10)')\n",
    "plt.legend()\n",
    "plt.show()\n",
    "\n",
    "\n"
   ]
  }
 ],
 "metadata": {
  "kernelspec": {
   "display_name": "test",
   "language": "python",
   "name": "python3"
  },
  "language_info": {
   "codemirror_mode": {
    "name": "ipython",
    "version": 3
   },
   "file_extension": ".py",
   "mimetype": "text/x-python",
   "name": "python",
   "nbconvert_exporter": "python",
   "pygments_lexer": "ipython3",
   "version": "3.11.9"
  }
 },
 "nbformat": 4,
 "nbformat_minor": 2
}
