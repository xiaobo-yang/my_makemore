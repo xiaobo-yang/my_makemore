{
 "cells": [
  {
   "cell_type": "code",
   "execution_count": 1,
   "metadata": {},
   "outputs": [
    {
     "name": "stdout",
     "output_type": "stream",
     "text": [
      "[3.0]\n",
      "[5.0, 7.0, 9.0, 11.0, 13.0]\n",
      "[9.0, 11.0, 13.0]\n"
     ]
    }
   ],
   "source": [
    "import tensor1d\n",
    "\n",
    "# 1D tensor of [0, 1, 2, ..., 19]\n",
    "t = tensor1d.arange(20)\n",
    "\n",
    "# getitem / setitem functionality\n",
    "print(t[3]) # prints 3.0\n",
    "t[-1] = 100.0 # sets the last element to 100.0\n",
    "\n",
    "# slicing, prints [5, 7, 9, 11, 13]\n",
    "print(t[5:15:2])\n",
    "\n",
    "# slice of a slice works ok! prints [9, 11, 13]\n",
    "# (note how the end range is oob and gets cropped)\n",
    "print(t[5:15:2][2:7])\n",
    "\n",
    "# add a scalar to the whole tensor\n",
    "t = t + 10.0\n",
    "\n",
    "# add two tensors (of the same size) together\n",
    "t2 = tensor1d.arange(20)\n",
    "t3 = t + t2\n",
    "\n",
    "# add two tensors together with broadcasting\n",
    "t4 = t + tensor1d.tensor([10.0])"
   ]
  },
  {
   "cell_type": "code",
   "execution_count": null,
   "metadata": {},
   "outputs": [],
   "source": []
  }
 ],
 "metadata": {
  "kernelspec": {
   "display_name": "test",
   "language": "python",
   "name": "python3"
  },
  "language_info": {
   "codemirror_mode": {
    "name": "ipython",
    "version": 3
   },
   "file_extension": ".py",
   "mimetype": "text/x-python",
   "name": "python",
   "nbconvert_exporter": "python",
   "pygments_lexer": "ipython3",
   "version": "3.11.9"
  }
 },
 "nbformat": 4,
 "nbformat_minor": 2
}
